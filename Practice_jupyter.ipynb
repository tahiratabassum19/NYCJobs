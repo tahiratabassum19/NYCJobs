{
 "cells": [
  {
   "cell_type": "code",
   "execution_count": 1,
   "id": "8050b15d",
   "metadata": {},
   "outputs": [],
   "source": [
    "import pandas as pd \n",
    "import requests\n",
    "import time"
   ]
  },
  {
   "cell_type": "code",
   "execution_count": 2,
   "id": "d1c2d25a",
   "metadata": {},
   "outputs": [],
   "source": [
    "#url=\"https://data.cityofnewyork.us/resource/kpav-sd4t.json?$$app_token=VqqaMeCXwluae4iAUkvGyheal&$select=job_id,agency,number_of_positions,business_title,civil_service_title,job_category,career_level,salary_range_from,salary_range_to ,salary_frequency,work_location,job_description,minimum_qual_requirements,preferred_skills, posting_date,posting_updated,work_location,post_until&$limit=50000\"\n",
    "url = \"https://data.cityofnewyork.us/resource/kpav-sd4t.json?$$app_token=VqqaMeCXwluae4iAUkvGyheal&$select=job_id,agency,number_of_positions,business_title,civil_service_title,job_category,career_level,salary_range_from,salary_range_to,salary_frequency,work_location,job_description,minimum_qual_requirements,work_location_1,posting_date,post_until&$limit=50000\"\n",
    "\n",
    "response=requests.get(url).json()"
   ]
  },
  {
   "cell_type": "code",
   "execution_count": 3,
   "id": "5857d263",
   "metadata": {},
   "outputs": [],
   "source": [
    "df = pd.DataFrame(response)\n"
   ]
  },
  {
   "cell_type": "code",
   "execution_count": 4,
   "id": "24be1950",
   "metadata": {},
   "outputs": [
    {
     "data": {
      "text/html": [
       "<div>\n",
       "<style scoped>\n",
       "    .dataframe tbody tr th:only-of-type {\n",
       "        vertical-align: middle;\n",
       "    }\n",
       "\n",
       "    .dataframe tbody tr th {\n",
       "        vertical-align: top;\n",
       "    }\n",
       "\n",
       "    .dataframe thead th {\n",
       "        text-align: right;\n",
       "    }\n",
       "</style>\n",
       "<table border=\"1\" class=\"dataframe\">\n",
       "  <thead>\n",
       "    <tr style=\"text-align: right;\">\n",
       "      <th></th>\n",
       "      <th>job_id</th>\n",
       "      <th>agency</th>\n",
       "      <th>number_of_positions</th>\n",
       "      <th>business_title</th>\n",
       "      <th>civil_service_title</th>\n",
       "      <th>job_category</th>\n",
       "      <th>career_level</th>\n",
       "      <th>salary_range_from</th>\n",
       "      <th>salary_range_to</th>\n",
       "      <th>salary_frequency</th>\n",
       "      <th>work_location</th>\n",
       "      <th>job_description</th>\n",
       "      <th>minimum_qual_requirements</th>\n",
       "      <th>posting_date</th>\n",
       "      <th>post_until</th>\n",
       "      <th>work_location_1</th>\n",
       "    </tr>\n",
       "  </thead>\n",
       "  <tbody>\n",
       "    <tr>\n",
       "      <th>0</th>\n",
       "      <td>570873</td>\n",
       "      <td>DEPT OF CITYWIDE ADMIN SVCS</td>\n",
       "      <td>2</td>\n",
       "      <td>Assistant Engineer, Load Management</td>\n",
       "      <td>ASSISTANT MECHANICAL ENGINEER</td>\n",
       "      <td>Engineering, Architecture, &amp; Planning</td>\n",
       "      <td>Experienced (non-manager)</td>\n",
       "      <td>57078</td>\n",
       "      <td>65640</td>\n",
       "      <td>Annual</td>\n",
       "      <td>1 Centre St., N.Y.</td>\n",
       "      <td>The Department of Citywide Administrative Serv...</td>\n",
       "      <td>1. A baccalaureate degree from an accredited c...</td>\n",
       "      <td>2023-05-12T00:00:00.000</td>\n",
       "      <td>11-JUL-2023</td>\n",
       "      <td>NaN</td>\n",
       "    </tr>\n",
       "    <tr>\n",
       "      <th>1</th>\n",
       "      <td>560933</td>\n",
       "      <td>DEPT OF ENVIRONMENT PROTECTION</td>\n",
       "      <td>1</td>\n",
       "      <td>City Research Scientist</td>\n",
       "      <td>CITY RESEARCH SCIENTIST</td>\n",
       "      <td>Constituent Services &amp; Community Programs Poli...</td>\n",
       "      <td>Experienced (non-manager)</td>\n",
       "      <td>75504</td>\n",
       "      <td>94761</td>\n",
       "      <td>Annual</td>\n",
       "      <td>59-17 Junction Blvd Corona Ny</td>\n",
       "      <td>The NYC Department of Environmental Protection...</td>\n",
       "      <td>1.  For Assignment Level I (only physical, bio...</td>\n",
       "      <td>2022-11-16T00:00:00.000</td>\n",
       "      <td>NaN</td>\n",
       "      <td>NaN</td>\n",
       "    </tr>\n",
       "    <tr>\n",
       "      <th>2</th>\n",
       "      <td>565857</td>\n",
       "      <td>POLICE DEPARTMENT</td>\n",
       "      <td>1</td>\n",
       "      <td>Police Administrative Aide</td>\n",
       "      <td>POLICE ADMINISTRATIVE AIDE</td>\n",
       "      <td>Administration &amp; Human Resources</td>\n",
       "      <td>Experienced (non-manager)</td>\n",
       "      <td>36390</td>\n",
       "      <td>55228</td>\n",
       "      <td>Annual</td>\n",
       "      <td>2770 Frederick Douglas Blvd</td>\n",
       "      <td>The mission of the New York City Police Depart...</td>\n",
       "      <td>1. A four-year high school diploma or its educ...</td>\n",
       "      <td>2022-12-21T00:00:00.000</td>\n",
       "      <td>NaN</td>\n",
       "      <td>PSA 6: 2770 Frederick Douglas Blvd, NY, NY</td>\n",
       "    </tr>\n",
       "    <tr>\n",
       "      <th>3</th>\n",
       "      <td>571786</td>\n",
       "      <td>DEPARTMENT OF CORRECTION</td>\n",
       "      <td>1</td>\n",
       "      <td>Business Intelligence Analyst</td>\n",
       "      <td>CITY RESEARCH SCIENTIST</td>\n",
       "      <td>Policy, Research &amp; Analysis</td>\n",
       "      <td>Experienced (non-manager)</td>\n",
       "      <td>84468</td>\n",
       "      <td>111003</td>\n",
       "      <td>Annual</td>\n",
       "      <td>75-20 Astoria Blvd</td>\n",
       "      <td>The New York City Department of Correction (DO...</td>\n",
       "      <td>1.  For Assignment Level I (only physical, bio...</td>\n",
       "      <td>2023-01-27T00:00:00.000</td>\n",
       "      <td>NaN</td>\n",
       "      <td>NaN</td>\n",
       "    </tr>\n",
       "    <tr>\n",
       "      <th>4</th>\n",
       "      <td>566099</td>\n",
       "      <td>DEPT OF CITYWIDE ADMIN SVCS</td>\n",
       "      <td>1</td>\n",
       "      <td>Portfolio Manager</td>\n",
       "      <td>SPACE ANALYST</td>\n",
       "      <td>Engineering, Architecture, &amp; Planning</td>\n",
       "      <td>Experienced (non-manager)</td>\n",
       "      <td>67757</td>\n",
       "      <td>77921</td>\n",
       "      <td>Annual</td>\n",
       "      <td>1 Centre St., N.Y.</td>\n",
       "      <td>DCAS's mission is to make city government work...</td>\n",
       "      <td>1. A baccalaureate degree from an accredited c...</td>\n",
       "      <td>2023-03-29T00:00:00.000</td>\n",
       "      <td>28-MAY-2023</td>\n",
       "      <td>NaN</td>\n",
       "    </tr>\n",
       "  </tbody>\n",
       "</table>\n",
       "</div>"
      ],
      "text/plain": [
       "   job_id                          agency number_of_positions  \\\n",
       "0  570873     DEPT OF CITYWIDE ADMIN SVCS                   2   \n",
       "1  560933  DEPT OF ENVIRONMENT PROTECTION                   1   \n",
       "2  565857               POLICE DEPARTMENT                   1   \n",
       "3  571786        DEPARTMENT OF CORRECTION                   1   \n",
       "4  566099     DEPT OF CITYWIDE ADMIN SVCS                   1   \n",
       "\n",
       "                        business_title            civil_service_title  \\\n",
       "0  Assistant Engineer, Load Management  ASSISTANT MECHANICAL ENGINEER   \n",
       "1              City Research Scientist        CITY RESEARCH SCIENTIST   \n",
       "2           Police Administrative Aide     POLICE ADMINISTRATIVE AIDE   \n",
       "3        Business Intelligence Analyst        CITY RESEARCH SCIENTIST   \n",
       "4                    Portfolio Manager                  SPACE ANALYST   \n",
       "\n",
       "                                        job_category  \\\n",
       "0              Engineering, Architecture, & Planning   \n",
       "1  Constituent Services & Community Programs Poli...   \n",
       "2                   Administration & Human Resources   \n",
       "3                        Policy, Research & Analysis   \n",
       "4              Engineering, Architecture, & Planning   \n",
       "\n",
       "                career_level salary_range_from salary_range_to  \\\n",
       "0  Experienced (non-manager)             57078           65640   \n",
       "1  Experienced (non-manager)             75504           94761   \n",
       "2  Experienced (non-manager)             36390           55228   \n",
       "3  Experienced (non-manager)             84468          111003   \n",
       "4  Experienced (non-manager)             67757           77921   \n",
       "\n",
       "  salary_frequency                  work_location  \\\n",
       "0           Annual             1 Centre St., N.Y.   \n",
       "1           Annual  59-17 Junction Blvd Corona Ny   \n",
       "2           Annual    2770 Frederick Douglas Blvd   \n",
       "3           Annual             75-20 Astoria Blvd   \n",
       "4           Annual             1 Centre St., N.Y.   \n",
       "\n",
       "                                     job_description  \\\n",
       "0  The Department of Citywide Administrative Serv...   \n",
       "1  The NYC Department of Environmental Protection...   \n",
       "2  The mission of the New York City Police Depart...   \n",
       "3  The New York City Department of Correction (DO...   \n",
       "4  DCAS's mission is to make city government work...   \n",
       "\n",
       "                           minimum_qual_requirements             posting_date  \\\n",
       "0  1. A baccalaureate degree from an accredited c...  2023-05-12T00:00:00.000   \n",
       "1  1.  For Assignment Level I (only physical, bio...  2022-11-16T00:00:00.000   \n",
       "2  1. A four-year high school diploma or its educ...  2022-12-21T00:00:00.000   \n",
       "3  1.  For Assignment Level I (only physical, bio...  2023-01-27T00:00:00.000   \n",
       "4  1. A baccalaureate degree from an accredited c...  2023-03-29T00:00:00.000   \n",
       "\n",
       "    post_until                             work_location_1  \n",
       "0  11-JUL-2023                                         NaN  \n",
       "1          NaN                                         NaN  \n",
       "2          NaN  PSA 6: 2770 Frederick Douglas Blvd, NY, NY  \n",
       "3          NaN                                         NaN  \n",
       "4  28-MAY-2023                                         NaN  "
      ]
     },
     "execution_count": 4,
     "metadata": {},
     "output_type": "execute_result"
    }
   ],
   "source": [
    "df.head()"
   ]
  },
  {
   "cell_type": "code",
   "execution_count": 5,
   "id": "a09bc220",
   "metadata": {},
   "outputs": [
    {
     "name": "stdout",
     "output_type": "stream",
     "text": [
      "Index(['job_id', 'agency', 'number_of_positions', 'business_title',\n",
      "       'civil_service_title', 'job_category', 'career_level',\n",
      "       'salary_range_from', 'salary_range_to', 'salary_frequency',\n",
      "       'work_location', 'job_description', 'minimum_qual_requirements',\n",
      "       'posting_date', 'post_until', 'work_location_1'],\n",
      "      dtype='object')\n",
      "        job_id                          agency number_of_positions  \\\n",
      "count     5990                            5990                5990   \n",
      "unique    3080                              55                  40   \n",
      "top     553410  DEPT OF ENVIRONMENT PROTECTION                   1   \n",
      "freq         3                            1034                4658   \n",
      "\n",
      "             business_title    civil_service_title  \\\n",
      "count                  5990                   5990   \n",
      "unique                 2225                    425   \n",
      "top     ACCOUNTABLE MANAGER  COMMUNITY COORDINATOR   \n",
      "freq                     81                    367   \n",
      "\n",
      "                                 job_category               career_level  \\\n",
      "count                                    5990                       5990   \n",
      "unique                                    199                          5   \n",
      "top     Engineering, Architecture, & Planning  Experienced (non-manager)   \n",
      "freq                                      829                       4369   \n",
      "\n",
      "       salary_range_from salary_range_to salary_frequency      work_location  \\\n",
      "count               5990            5990             5990               5990   \n",
      "unique               531             722                3                355   \n",
      "top                54100              15           Annual  55 Water St Ny Ny   \n",
      "freq                 279             148             5253                448   \n",
      "\n",
      "                                          job_description  \\\n",
      "count                                                5990   \n",
      "unique                                               2928   \n",
      "top     The Office of Revenue comprises divisions and ...   \n",
      "freq                                                   26   \n",
      "\n",
      "                                minimum_qual_requirements  \\\n",
      "count                                                5949   \n",
      "unique                                                500   \n",
      "top     1. A baccalaureate degree from an accredited c...   \n",
      "freq                                                  367   \n",
      "\n",
      "                   posting_date   post_until    work_location_1  \n",
      "count                      5990         2092               2833  \n",
      "unique                      372          146                470  \n",
      "top     2023-05-12T00:00:00.000  02-JUN-2023  55 Water St Ny Ny  \n",
      "freq                        163          222                210  \n"
     ]
    }
   ],
   "source": [
    "print(df.columns)\n",
    "print(df.describe())"
   ]
  },
  {
   "cell_type": "code",
   "execution_count": 6,
   "id": "14a83a14",
   "metadata": {},
   "outputs": [
    {
     "data": {
      "text/plain": [
       "job_id                          0\n",
       "agency                          0\n",
       "number_of_positions             0\n",
       "business_title                  0\n",
       "civil_service_title             0\n",
       "job_category                    0\n",
       "career_level                    0\n",
       "salary_range_from               0\n",
       "salary_range_to                 0\n",
       "salary_frequency                0\n",
       "work_location                   0\n",
       "job_description                 0\n",
       "minimum_qual_requirements      41\n",
       "posting_date                    0\n",
       "post_until                   3898\n",
       "work_location_1              3157\n",
       "dtype: int64"
      ]
     },
     "execution_count": 6,
     "metadata": {},
     "output_type": "execute_result"
    }
   ],
   "source": [
    "df.isnull().sum()"
   ]
  },
  {
   "cell_type": "code",
   "execution_count": 7,
   "id": "f5a733ae",
   "metadata": {},
   "outputs": [],
   "source": [
    "df['minimum_qual_requirements']=df['minimum_qual_requirements'].fillna(' ')\n",
    "df['work_location_1']=df['work_location_1'].fillna(' ')"
   ]
  },
  {
   "cell_type": "code",
   "execution_count": 8,
   "id": "63379061",
   "metadata": {},
   "outputs": [],
   "source": [
    "df['salary']='$'+df['salary_range_from']+'-$'+df['salary_range_to']+'/'+df['salary_frequency']\n",
    "df=df.rename({'job_id':'Job ID','business_title':'Title','salary':'Salary','post_until':'Post Until'}, axis=1)\n",
    "df['Post Until']=df['Post Until'].fillna('Not Provided')"
   ]
  },
  {
   "cell_type": "code",
   "execution_count": 9,
   "id": "53514ba5",
   "metadata": {},
   "outputs": [
    {
     "data": {
      "text/plain": [
       "Job ID                       0\n",
       "agency                       0\n",
       "number_of_positions          0\n",
       "Title                        0\n",
       "civil_service_title          0\n",
       "job_category                 0\n",
       "career_level                 0\n",
       "salary_range_from            0\n",
       "salary_range_to              0\n",
       "salary_frequency             0\n",
       "work_location                0\n",
       "job_description              0\n",
       "minimum_qual_requirements    0\n",
       "posting_date                 0\n",
       "Post Until                   0\n",
       "work_location_1              0\n",
       "Salary                       0\n",
       "dtype: int64"
      ]
     },
     "execution_count": 9,
     "metadata": {},
     "output_type": "execute_result"
    }
   ],
   "source": [
    "df.isnull().sum() "
   ]
  },
  {
   "cell_type": "code",
   "execution_count": 10,
   "id": "4eec4ba7",
   "metadata": {},
   "outputs": [
    {
     "data": {
      "text/plain": [
       "2882"
      ]
     },
     "execution_count": 10,
     "metadata": {},
     "output_type": "execute_result"
    }
   ],
   "source": [
    "df.duplicated().sum()"
   ]
  },
  {
   "cell_type": "code",
   "execution_count": 11,
   "id": "a10e8cf2",
   "metadata": {},
   "outputs": [],
   "source": [
    "df= df.drop_duplicates(subset='Job ID',keep='first')\n"
   ]
  },
  {
   "cell_type": "code",
   "execution_count": 12,
   "id": "51dc28b1",
   "metadata": {},
   "outputs": [
    {
     "data": {
      "text/plain": [
       "0"
      ]
     },
     "execution_count": 12,
     "metadata": {},
     "output_type": "execute_result"
    }
   ],
   "source": [
    "df.duplicated().sum()"
   ]
  },
  {
   "cell_type": "code",
   "execution_count": 13,
   "id": "42f61201",
   "metadata": {},
   "outputs": [
    {
     "data": {
      "text/plain": [
       "(3080,)"
      ]
     },
     "execution_count": 13,
     "metadata": {},
     "output_type": "execute_result"
    }
   ],
   "source": [
    "df['Job ID'].shape"
   ]
  },
  {
   "cell_type": "code",
   "execution_count": 14,
   "id": "1d83524b",
   "metadata": {},
   "outputs": [
    {
     "data": {
      "text/plain": [
       "7556.0"
      ]
     },
     "execution_count": 14,
     "metadata": {},
     "output_type": "execute_result"
    }
   ],
   "source": [
    "df['number_of_positions'] = df['number_of_positions'].astype(float)\n",
    "sum_position = (df['number_of_positions']).sum()\n",
    "sum_position"
   ]
  },
  {
   "cell_type": "code",
   "execution_count": null,
   "id": "6fc74794",
   "metadata": {},
   "outputs": [],
   "source": []
  },
  {
   "cell_type": "code",
   "execution_count": 15,
   "id": "93c15412",
   "metadata": {},
   "outputs": [
    {
     "data": {
      "text/plain": [
       "(199,)"
      ]
     },
     "execution_count": 15,
     "metadata": {},
     "output_type": "execute_result"
    }
   ],
   "source": [
    "df['job_category'].unique().shape\n"
   ]
  },
  {
   "cell_type": "code",
   "execution_count": 16,
   "id": "4b218ad3",
   "metadata": {},
   "outputs": [],
   "source": [
    "values=df['career_level'].value_counts().reset_index()"
   ]
  },
  {
   "cell_type": "code",
   "execution_count": 17,
   "id": "1729b7f2",
   "metadata": {},
   "outputs": [
    {
     "data": {
      "text/html": [
       "<div>\n",
       "<style scoped>\n",
       "    .dataframe tbody tr th:only-of-type {\n",
       "        vertical-align: middle;\n",
       "    }\n",
       "\n",
       "    .dataframe tbody tr th {\n",
       "        vertical-align: top;\n",
       "    }\n",
       "\n",
       "    .dataframe thead th {\n",
       "        text-align: right;\n",
       "    }\n",
       "</style>\n",
       "<table border=\"1\" class=\"dataframe\">\n",
       "  <thead>\n",
       "    <tr style=\"text-align: right;\">\n",
       "      <th></th>\n",
       "      <th>index</th>\n",
       "      <th>career_level</th>\n",
       "    </tr>\n",
       "  </thead>\n",
       "  <tbody>\n",
       "    <tr>\n",
       "      <th>0</th>\n",
       "      <td>Experienced (non-manager)</td>\n",
       "      <td>2271</td>\n",
       "    </tr>\n",
       "    <tr>\n",
       "      <th>1</th>\n",
       "      <td>Manager</td>\n",
       "      <td>300</td>\n",
       "    </tr>\n",
       "    <tr>\n",
       "      <th>2</th>\n",
       "      <td>Entry-Level</td>\n",
       "      <td>266</td>\n",
       "    </tr>\n",
       "    <tr>\n",
       "      <th>3</th>\n",
       "      <td>Student</td>\n",
       "      <td>179</td>\n",
       "    </tr>\n",
       "    <tr>\n",
       "      <th>4</th>\n",
       "      <td>Executive</td>\n",
       "      <td>64</td>\n",
       "    </tr>\n",
       "  </tbody>\n",
       "</table>\n",
       "</div>"
      ],
      "text/plain": [
       "                       index  career_level\n",
       "0  Experienced (non-manager)          2271\n",
       "1                    Manager           300\n",
       "2                Entry-Level           266\n",
       "3                    Student           179\n",
       "4                  Executive            64"
      ]
     },
     "execution_count": 17,
     "metadata": {},
     "output_type": "execute_result"
    }
   ],
   "source": [
    "values"
   ]
  },
  {
   "cell_type": "code",
   "execution_count": null,
   "id": "cfaf74dd",
   "metadata": {},
   "outputs": [],
   "source": []
  },
  {
   "cell_type": "code",
   "execution_count": 18,
   "id": "12cf8c89",
   "metadata": {},
   "outputs": [],
   "source": [
    "import plotly.graph_objects as go\n"
   ]
  },
  {
   "cell_type": "code",
   "execution_count": 20,
   "id": "37f46e02",
   "metadata": {},
   "outputs": [
    {
     "name": "stdout",
     "output_type": "stream",
     "text": [
      "The 'number_of_positions' column contains non-integer values.\n"
     ]
    }
   ],
   "source": []
  },
  {
   "cell_type": "code",
   "execution_count": 21,
   "id": "0bc68e12",
   "metadata": {},
   "outputs": [
    {
     "data": {
      "text/html": [
       "<div>\n",
       "<style scoped>\n",
       "    .dataframe tbody tr th:only-of-type {\n",
       "        vertical-align: middle;\n",
       "    }\n",
       "\n",
       "    .dataframe tbody tr th {\n",
       "        vertical-align: top;\n",
       "    }\n",
       "\n",
       "    .dataframe thead th {\n",
       "        text-align: right;\n",
       "    }\n",
       "</style>\n",
       "<table border=\"1\" class=\"dataframe\">\n",
       "  <thead>\n",
       "    <tr style=\"text-align: right;\">\n",
       "      <th></th>\n",
       "      <th>career_level</th>\n",
       "      <th>number_of_positions</th>\n",
       "    </tr>\n",
       "  </thead>\n",
       "  <tbody>\n",
       "    <tr>\n",
       "      <th>0</th>\n",
       "      <td>Entry-Level</td>\n",
       "      <td>2020.0</td>\n",
       "    </tr>\n",
       "    <tr>\n",
       "      <th>1</th>\n",
       "      <td>Executive</td>\n",
       "      <td>87.0</td>\n",
       "    </tr>\n",
       "    <tr>\n",
       "      <th>2</th>\n",
       "      <td>Experienced (non-manager)</td>\n",
       "      <td>4738.0</td>\n",
       "    </tr>\n",
       "    <tr>\n",
       "      <th>3</th>\n",
       "      <td>Manager</td>\n",
       "      <td>336.0</td>\n",
       "    </tr>\n",
       "    <tr>\n",
       "      <th>4</th>\n",
       "      <td>Student</td>\n",
       "      <td>375.0</td>\n",
       "    </tr>\n",
       "  </tbody>\n",
       "</table>\n",
       "</div>"
      ],
      "text/plain": [
       "                career_level  number_of_positions\n",
       "0                Entry-Level               2020.0\n",
       "1                  Executive                 87.0\n",
       "2  Experienced (non-manager)               4738.0\n",
       "3                    Manager                336.0\n",
       "4                    Student                375.0"
      ]
     },
     "execution_count": 21,
     "metadata": {},
     "output_type": "execute_result"
    }
   ],
   "source": [
    "import numpy as np\n",
    "career = df.groupby('career_level')['number_of_positions'].sum().reset_index()\n",
    "\n",
    "career\n"
   ]
  },
  {
   "cell_type": "code",
   "execution_count": 21,
   "id": "e55203ad",
   "metadata": {},
   "outputs": [],
   "source": [
    "line_chart_date = df.copy()\n",
    "line_chart_date['posting_date'] = pd.to_datetime(line_chart_date['posting_date'])\n",
    "line_chart_date['month_year'] = line_chart_date['posting_date'].dt.strftime('%m/%Y')"
   ]
  },
  {
   "cell_type": "code",
   "execution_count": 22,
   "id": "b5246c47",
   "metadata": {},
   "outputs": [
    {
     "data": {
      "text/plain": [
       "0       05/2023\n",
       "1       11/2022\n",
       "2       12/2022\n",
       "3       01/2023\n",
       "4       03/2023\n",
       "         ...   \n",
       "5867    01/2023\n",
       "5870    02/2023\n",
       "5889    08/2022\n",
       "5894    04/2023\n",
       "5964    02/2023\n",
       "Name: month_year, Length: 3080, dtype: object"
      ]
     },
     "execution_count": 22,
     "metadata": {},
     "output_type": "execute_result"
    }
   ],
   "source": [
    "line_chart_date['month_year']"
   ]
  },
  {
   "cell_type": "code",
   "execution_count": 25,
   "id": "9c7bdb8c",
   "metadata": {},
   "outputs": [],
   "source": [
    "# trying isin list \n",
    "\n",
    "list_t=['Executive','Student']\n",
    "list_r=['DEPT OF ENVIRONMENT PROTECTION','DEPARTMENT OF TRANSPORTATION']\n",
    "df_new=df[(df['career_level'].isin(list_t)) &(df['agency'].isin(list_r))]"
   ]
  },
  {
   "cell_type": "code",
   "execution_count": 35,
   "id": "bde34d1a",
   "metadata": {},
   "outputs": [
    {
     "data": {
      "text/plain": [
       "(55,)"
      ]
     },
     "execution_count": 35,
     "metadata": {},
     "output_type": "execute_result"
    }
   ],
   "source": [
    "df['agency'].unique().shape"
   ]
  },
  {
   "cell_type": "code",
   "execution_count": 34,
   "id": "59748b56",
   "metadata": {},
   "outputs": [
    {
     "data": {
      "text/html": [
       "<div>\n",
       "<style scoped>\n",
       "    .dataframe tbody tr th:only-of-type {\n",
       "        vertical-align: middle;\n",
       "    }\n",
       "\n",
       "    .dataframe tbody tr th {\n",
       "        vertical-align: top;\n",
       "    }\n",
       "\n",
       "    .dataframe thead th {\n",
       "        text-align: right;\n",
       "    }\n",
       "</style>\n",
       "<table border=\"1\" class=\"dataframe\">\n",
       "  <thead>\n",
       "    <tr style=\"text-align: right;\">\n",
       "      <th></th>\n",
       "      <th>agency</th>\n",
       "      <th>number_of_positions</th>\n",
       "    </tr>\n",
       "  </thead>\n",
       "  <tbody>\n",
       "    <tr>\n",
       "      <th>0</th>\n",
       "      <td>ADMIN FOR CHILDREN'S SVCS</td>\n",
       "      <td>374.0</td>\n",
       "    </tr>\n",
       "    <tr>\n",
       "      <th>1</th>\n",
       "      <td>ADMIN TRIALS AND HEARINGS</td>\n",
       "      <td>39.0</td>\n",
       "    </tr>\n",
       "    <tr>\n",
       "      <th>2</th>\n",
       "      <td>BOARD OF CORRECTION</td>\n",
       "      <td>1.0</td>\n",
       "    </tr>\n",
       "    <tr>\n",
       "      <th>3</th>\n",
       "      <td>BOROUGH PRESIDENT-BRONX</td>\n",
       "      <td>5.0</td>\n",
       "    </tr>\n",
       "    <tr>\n",
       "      <th>4</th>\n",
       "      <td>BRONX COMMUNITY BOARD #4</td>\n",
       "      <td>1.0</td>\n",
       "    </tr>\n",
       "    <tr>\n",
       "      <th>5</th>\n",
       "      <td>BRONX DISTRICT ATTORNEY</td>\n",
       "      <td>368.0</td>\n",
       "    </tr>\n",
       "    <tr>\n",
       "      <th>6</th>\n",
       "      <td>BUSINESS INTEGRITY COMMISSION</td>\n",
       "      <td>2.0</td>\n",
       "    </tr>\n",
       "    <tr>\n",
       "      <th>7</th>\n",
       "      <td>CAMPAIGN FINANCE BOARD</td>\n",
       "      <td>11.0</td>\n",
       "    </tr>\n",
       "    <tr>\n",
       "      <th>8</th>\n",
       "      <td>CIVILIAN COMPLAINT REVIEW BD</td>\n",
       "      <td>27.0</td>\n",
       "    </tr>\n",
       "    <tr>\n",
       "      <th>9</th>\n",
       "      <td>CONSUMER AND WORKER PROTECTION</td>\n",
       "      <td>14.0</td>\n",
       "    </tr>\n",
       "    <tr>\n",
       "      <th>10</th>\n",
       "      <td>CULTURAL AFFAIRS</td>\n",
       "      <td>1.0</td>\n",
       "    </tr>\n",
       "    <tr>\n",
       "      <th>11</th>\n",
       "      <td>DEPARTMENT FOR THE AGING</td>\n",
       "      <td>26.0</td>\n",
       "    </tr>\n",
       "    <tr>\n",
       "      <th>12</th>\n",
       "      <td>DEPARTMENT OF BUILDINGS</td>\n",
       "      <td>88.0</td>\n",
       "    </tr>\n",
       "    <tr>\n",
       "      <th>13</th>\n",
       "      <td>DEPARTMENT OF BUSINESS SERV.</td>\n",
       "      <td>50.0</td>\n",
       "    </tr>\n",
       "    <tr>\n",
       "      <th>14</th>\n",
       "      <td>DEPARTMENT OF CITY PLANNING</td>\n",
       "      <td>48.0</td>\n",
       "    </tr>\n",
       "    <tr>\n",
       "      <th>15</th>\n",
       "      <td>DEPARTMENT OF CORRECTION</td>\n",
       "      <td>320.0</td>\n",
       "    </tr>\n",
       "    <tr>\n",
       "      <th>16</th>\n",
       "      <td>DEPARTMENT OF FINANCE</td>\n",
       "      <td>8.0</td>\n",
       "    </tr>\n",
       "    <tr>\n",
       "      <th>17</th>\n",
       "      <td>DEPARTMENT OF INVESTIGATION</td>\n",
       "      <td>54.0</td>\n",
       "    </tr>\n",
       "    <tr>\n",
       "      <th>18</th>\n",
       "      <td>DEPARTMENT OF PROBATION</td>\n",
       "      <td>69.0</td>\n",
       "    </tr>\n",
       "    <tr>\n",
       "      <th>19</th>\n",
       "      <td>DEPARTMENT OF SANITATION</td>\n",
       "      <td>13.0</td>\n",
       "    </tr>\n",
       "    <tr>\n",
       "      <th>20</th>\n",
       "      <td>DEPARTMENT OF TRANSPORTATION</td>\n",
       "      <td>435.0</td>\n",
       "    </tr>\n",
       "    <tr>\n",
       "      <th>21</th>\n",
       "      <td>DEPT OF CITYWIDE ADMIN SVCS</td>\n",
       "      <td>88.0</td>\n",
       "    </tr>\n",
       "    <tr>\n",
       "      <th>22</th>\n",
       "      <td>DEPT OF DESIGN &amp; CONSTRUCTION</td>\n",
       "      <td>108.0</td>\n",
       "    </tr>\n",
       "    <tr>\n",
       "      <th>23</th>\n",
       "      <td>DEPT OF ENVIRONMENT PROTECTION</td>\n",
       "      <td>938.0</td>\n",
       "    </tr>\n",
       "    <tr>\n",
       "      <th>24</th>\n",
       "      <td>DEPT OF HEALTH/MENTAL HYGIENE</td>\n",
       "      <td>522.0</td>\n",
       "    </tr>\n",
       "    <tr>\n",
       "      <th>25</th>\n",
       "      <td>DEPT OF PARKS &amp; RECREATION</td>\n",
       "      <td>1291.0</td>\n",
       "    </tr>\n",
       "    <tr>\n",
       "      <th>26</th>\n",
       "      <td>DEPT OF RECORDS &amp; INFO SERVICE</td>\n",
       "      <td>6.0</td>\n",
       "    </tr>\n",
       "    <tr>\n",
       "      <th>27</th>\n",
       "      <td>DEPT OF YOUTH &amp; COMM DEV SRVS</td>\n",
       "      <td>103.0</td>\n",
       "    </tr>\n",
       "    <tr>\n",
       "      <th>28</th>\n",
       "      <td>DEPT. OF HOMELESS SERVICES</td>\n",
       "      <td>93.0</td>\n",
       "    </tr>\n",
       "    <tr>\n",
       "      <th>29</th>\n",
       "      <td>DISTRICT ATTORNEY KINGS COUNTY</td>\n",
       "      <td>11.0</td>\n",
       "    </tr>\n",
       "    <tr>\n",
       "      <th>30</th>\n",
       "      <td>DISTRICT ATTORNEY RICHMOND COU</td>\n",
       "      <td>21.0</td>\n",
       "    </tr>\n",
       "    <tr>\n",
       "      <th>31</th>\n",
       "      <td>FINANCIAL INFO SVCS AGENCY</td>\n",
       "      <td>57.0</td>\n",
       "    </tr>\n",
       "    <tr>\n",
       "      <th>32</th>\n",
       "      <td>FIRE DEPARTMENT</td>\n",
       "      <td>113.0</td>\n",
       "    </tr>\n",
       "    <tr>\n",
       "      <th>33</th>\n",
       "      <td>HOUSING PRESERVATION &amp; DVLPMNT</td>\n",
       "      <td>137.0</td>\n",
       "    </tr>\n",
       "    <tr>\n",
       "      <th>34</th>\n",
       "      <td>HRA/DEPT OF SOCIAL SERVICES</td>\n",
       "      <td>752.0</td>\n",
       "    </tr>\n",
       "    <tr>\n",
       "      <th>35</th>\n",
       "      <td>HUMAN RIGHTS COMMISSION</td>\n",
       "      <td>19.0</td>\n",
       "    </tr>\n",
       "    <tr>\n",
       "      <th>36</th>\n",
       "      <td>LANDMARKS PRESERVATION COMM</td>\n",
       "      <td>2.0</td>\n",
       "    </tr>\n",
       "    <tr>\n",
       "      <th>37</th>\n",
       "      <td>LAW DEPARTMENT</td>\n",
       "      <td>218.0</td>\n",
       "    </tr>\n",
       "    <tr>\n",
       "      <th>38</th>\n",
       "      <td>MAYORS OFFICE OF CONTRACT SVCS</td>\n",
       "      <td>7.0</td>\n",
       "    </tr>\n",
       "    <tr>\n",
       "      <th>39</th>\n",
       "      <td>MUNICIPAL WATER FIN AUTHORITY</td>\n",
       "      <td>3.0</td>\n",
       "    </tr>\n",
       "    <tr>\n",
       "      <th>40</th>\n",
       "      <td>NYC EMPLOYEES RETIREMENT SYS</td>\n",
       "      <td>11.0</td>\n",
       "    </tr>\n",
       "    <tr>\n",
       "      <th>41</th>\n",
       "      <td>NYC HOUSING AUTHORITY</td>\n",
       "      <td>258.0</td>\n",
       "    </tr>\n",
       "    <tr>\n",
       "      <th>42</th>\n",
       "      <td>NYC POLICE PENSION FUND</td>\n",
       "      <td>2.0</td>\n",
       "    </tr>\n",
       "    <tr>\n",
       "      <th>43</th>\n",
       "      <td>OFF OF PAYROLL ADMINISTRATION</td>\n",
       "      <td>10.0</td>\n",
       "    </tr>\n",
       "    <tr>\n",
       "      <th>44</th>\n",
       "      <td>OFFICE OF EMERGENCY MANAGEMENT</td>\n",
       "      <td>33.0</td>\n",
       "    </tr>\n",
       "    <tr>\n",
       "      <th>45</th>\n",
       "      <td>OFFICE OF LABOR RELATIONS</td>\n",
       "      <td>23.0</td>\n",
       "    </tr>\n",
       "    <tr>\n",
       "      <th>46</th>\n",
       "      <td>OFFICE OF MANAGEMENT &amp; BUDGET</td>\n",
       "      <td>87.0</td>\n",
       "    </tr>\n",
       "    <tr>\n",
       "      <th>47</th>\n",
       "      <td>OFFICE OF THE COMPTROLLER</td>\n",
       "      <td>60.0</td>\n",
       "    </tr>\n",
       "    <tr>\n",
       "      <th>48</th>\n",
       "      <td>POLICE DEPARTMENT</td>\n",
       "      <td>529.0</td>\n",
       "    </tr>\n",
       "    <tr>\n",
       "      <th>49</th>\n",
       "      <td>PRESIDENT BOROUGH OF MANHATTAN</td>\n",
       "      <td>4.0</td>\n",
       "    </tr>\n",
       "    <tr>\n",
       "      <th>50</th>\n",
       "      <td>PUBLIC ADMINISTRATOR-NEW YORK</td>\n",
       "      <td>2.0</td>\n",
       "    </tr>\n",
       "    <tr>\n",
       "      <th>51</th>\n",
       "      <td>TAX COMMISSION</td>\n",
       "      <td>2.0</td>\n",
       "    </tr>\n",
       "    <tr>\n",
       "      <th>52</th>\n",
       "      <td>TAXI &amp; LIMOUSINE COMMISSION</td>\n",
       "      <td>71.0</td>\n",
       "    </tr>\n",
       "    <tr>\n",
       "      <th>53</th>\n",
       "      <td>TEACHERS RETIREMENT SYSTEM</td>\n",
       "      <td>14.0</td>\n",
       "    </tr>\n",
       "    <tr>\n",
       "      <th>54</th>\n",
       "      <td>TECHNOLOGY &amp; INNOVATION</td>\n",
       "      <td>7.0</td>\n",
       "    </tr>\n",
       "  </tbody>\n",
       "</table>\n",
       "</div>"
      ],
      "text/plain": [
       "                            agency  number_of_positions\n",
       "0        ADMIN FOR CHILDREN'S SVCS                374.0\n",
       "1        ADMIN TRIALS AND HEARINGS                 39.0\n",
       "2              BOARD OF CORRECTION                  1.0\n",
       "3          BOROUGH PRESIDENT-BRONX                  5.0\n",
       "4         BRONX COMMUNITY BOARD #4                  1.0\n",
       "5          BRONX DISTRICT ATTORNEY                368.0\n",
       "6    BUSINESS INTEGRITY COMMISSION                  2.0\n",
       "7           CAMPAIGN FINANCE BOARD                 11.0\n",
       "8     CIVILIAN COMPLAINT REVIEW BD                 27.0\n",
       "9   CONSUMER AND WORKER PROTECTION                 14.0\n",
       "10                CULTURAL AFFAIRS                  1.0\n",
       "11        DEPARTMENT FOR THE AGING                 26.0\n",
       "12         DEPARTMENT OF BUILDINGS                 88.0\n",
       "13    DEPARTMENT OF BUSINESS SERV.                 50.0\n",
       "14     DEPARTMENT OF CITY PLANNING                 48.0\n",
       "15        DEPARTMENT OF CORRECTION                320.0\n",
       "16           DEPARTMENT OF FINANCE                  8.0\n",
       "17     DEPARTMENT OF INVESTIGATION                 54.0\n",
       "18         DEPARTMENT OF PROBATION                 69.0\n",
       "19        DEPARTMENT OF SANITATION                 13.0\n",
       "20    DEPARTMENT OF TRANSPORTATION                435.0\n",
       "21     DEPT OF CITYWIDE ADMIN SVCS                 88.0\n",
       "22   DEPT OF DESIGN & CONSTRUCTION                108.0\n",
       "23  DEPT OF ENVIRONMENT PROTECTION                938.0\n",
       "24   DEPT OF HEALTH/MENTAL HYGIENE                522.0\n",
       "25      DEPT OF PARKS & RECREATION               1291.0\n",
       "26  DEPT OF RECORDS & INFO SERVICE                  6.0\n",
       "27   DEPT OF YOUTH & COMM DEV SRVS                103.0\n",
       "28      DEPT. OF HOMELESS SERVICES                 93.0\n",
       "29  DISTRICT ATTORNEY KINGS COUNTY                 11.0\n",
       "30  DISTRICT ATTORNEY RICHMOND COU                 21.0\n",
       "31      FINANCIAL INFO SVCS AGENCY                 57.0\n",
       "32                 FIRE DEPARTMENT                113.0\n",
       "33  HOUSING PRESERVATION & DVLPMNT                137.0\n",
       "34     HRA/DEPT OF SOCIAL SERVICES                752.0\n",
       "35         HUMAN RIGHTS COMMISSION                 19.0\n",
       "36     LANDMARKS PRESERVATION COMM                  2.0\n",
       "37                  LAW DEPARTMENT                218.0\n",
       "38  MAYORS OFFICE OF CONTRACT SVCS                  7.0\n",
       "39   MUNICIPAL WATER FIN AUTHORITY                  3.0\n",
       "40    NYC EMPLOYEES RETIREMENT SYS                 11.0\n",
       "41           NYC HOUSING AUTHORITY                258.0\n",
       "42         NYC POLICE PENSION FUND                  2.0\n",
       "43   OFF OF PAYROLL ADMINISTRATION                 10.0\n",
       "44  OFFICE OF EMERGENCY MANAGEMENT                 33.0\n",
       "45       OFFICE OF LABOR RELATIONS                 23.0\n",
       "46   OFFICE OF MANAGEMENT & BUDGET                 87.0\n",
       "47       OFFICE OF THE COMPTROLLER                 60.0\n",
       "48               POLICE DEPARTMENT                529.0\n",
       "49  PRESIDENT BOROUGH OF MANHATTAN                  4.0\n",
       "50   PUBLIC ADMINISTRATOR-NEW YORK                  2.0\n",
       "51                  TAX COMMISSION                  2.0\n",
       "52     TAXI & LIMOUSINE COMMISSION                 71.0\n",
       "53      TEACHERS RETIREMENT SYSTEM                 14.0\n",
       "54         TECHNOLOGY & INNOVATION                  7.0"
      ]
     },
     "execution_count": 34,
     "metadata": {},
     "output_type": "execute_result"
    }
   ],
   "source": [
    "altr=df.groupby('agency')['number_of_positions'].sum().reset_index()\n",
    "altr"
   ]
  },
  {
   "cell_type": "code",
   "execution_count": 27,
   "id": "eb28f7e2",
   "metadata": {},
   "outputs": [
    {
     "data": {
      "text/html": [
       "<div>\n",
       "<style scoped>\n",
       "    .dataframe tbody tr th:only-of-type {\n",
       "        vertical-align: middle;\n",
       "    }\n",
       "\n",
       "    .dataframe tbody tr th {\n",
       "        vertical-align: top;\n",
       "    }\n",
       "\n",
       "    .dataframe thead th {\n",
       "        text-align: right;\n",
       "    }\n",
       "</style>\n",
       "<table border=\"1\" class=\"dataframe\">\n",
       "  <thead>\n",
       "    <tr style=\"text-align: right;\">\n",
       "      <th></th>\n",
       "      <th>Job ID</th>\n",
       "      <th>agency</th>\n",
       "      <th>number_of_positions</th>\n",
       "      <th>Title</th>\n",
       "      <th>civil_service_title</th>\n",
       "      <th>job_category</th>\n",
       "      <th>career_level</th>\n",
       "      <th>salary_range_from</th>\n",
       "      <th>salary_range_to</th>\n",
       "      <th>salary_frequency</th>\n",
       "      <th>work_location</th>\n",
       "      <th>job_description</th>\n",
       "      <th>minimum_qual_requirements</th>\n",
       "      <th>posting_date</th>\n",
       "      <th>Post Until</th>\n",
       "      <th>work_location_1</th>\n",
       "      <th>Salary</th>\n",
       "    </tr>\n",
       "  </thead>\n",
       "  <tbody>\n",
       "    <tr>\n",
       "      <th>1</th>\n",
       "      <td>560933</td>\n",
       "      <td>DEPT OF ENVIRONMENT PROTECTION</td>\n",
       "      <td>1.0</td>\n",
       "      <td>City Research Scientist</td>\n",
       "      <td>CITY RESEARCH SCIENTIST</td>\n",
       "      <td>Constituent Services &amp; Community Programs Poli...</td>\n",
       "      <td>Experienced (non-manager)</td>\n",
       "      <td>75504</td>\n",
       "      <td>94761</td>\n",
       "      <td>Annual</td>\n",
       "      <td>59-17 Junction Blvd Corona Ny</td>\n",
       "      <td>The NYC Department of Environmental Protection...</td>\n",
       "      <td>1.  For Assignment Level I (only physical, bio...</td>\n",
       "      <td>2022-11-16T00:00:00.000</td>\n",
       "      <td>Not Provided</td>\n",
       "      <td></td>\n",
       "      <td>$75504-$94761/Annual</td>\n",
       "    </tr>\n",
       "    <tr>\n",
       "      <th>7</th>\n",
       "      <td>573298</td>\n",
       "      <td>DEPT OF ENVIRONMENT PROTECTION</td>\n",
       "      <td>1.0</td>\n",
       "      <td>2023-BIT-001-Desktop Support Analyst Intern</td>\n",
       "      <td>SUMMER COLLEGE INTERN</td>\n",
       "      <td>Technology, Data &amp; Innovation</td>\n",
       "      <td>Student</td>\n",
       "      <td>15</td>\n",
       "      <td>15</td>\n",
       "      <td>Hourly</td>\n",
       "      <td>59-17 Junction Blvd Corona Ny</td>\n",
       "      <td>The NYC Department of Environmental Protection...</td>\n",
       "      <td>As of June of the Program year the prospective...</td>\n",
       "      <td>2023-02-06T00:00:00.000</td>\n",
       "      <td>02-JUN-2023</td>\n",
       "      <td>Main Office at 59-17 Junction Blvd, Corona NY.</td>\n",
       "      <td>$15-$15/Hourly</td>\n",
       "    </tr>\n",
       "    <tr>\n",
       "      <th>12</th>\n",
       "      <td>552140</td>\n",
       "      <td>DEPT OF ENVIRONMENT PROTECTION</td>\n",
       "      <td>2.0</td>\n",
       "      <td>Civil Engineering Intern</td>\n",
       "      <td>CIVIL ENGINEERING INTERN</td>\n",
       "      <td>Engineering, Architecture, &amp; Planning</td>\n",
       "      <td>Entry-Level</td>\n",
       "      <td>51413</td>\n",
       "      <td>62260</td>\n",
       "      <td>Annual</td>\n",
       "      <td>59-17 Junction Blvd Corona Ny</td>\n",
       "      <td>The New York City Department of Environmental ...</td>\n",
       "      <td>1. A baccalaureate degree in civil engineering...</td>\n",
       "      <td>2022-09-30T00:00:00.000</td>\n",
       "      <td>Not Provided</td>\n",
       "      <td></td>\n",
       "      <td>$51413-$62260/Annual</td>\n",
       "    </tr>\n",
       "    <tr>\n",
       "      <th>20</th>\n",
       "      <td>574614</td>\n",
       "      <td>DEPT OF ENVIRONMENT PROTECTION</td>\n",
       "      <td>1.0</td>\n",
       "      <td>Mechanical Engineering Intern</td>\n",
       "      <td>MECHANICAL ENGINEERING INTERN</td>\n",
       "      <td>Engineering, Architecture, &amp; Planning</td>\n",
       "      <td>Entry-Level</td>\n",
       "      <td>59125</td>\n",
       "      <td>62260</td>\n",
       "      <td>Annual</td>\n",
       "      <td>59-17 Junction Blvd Corona Ny</td>\n",
       "      <td>The NYC Department of Environmental Protection...</td>\n",
       "      <td>1. A bachelor's degree in mechanical engineeri...</td>\n",
       "      <td>2023-02-15T00:00:00.000</td>\n",
       "      <td>Not Provided</td>\n",
       "      <td></td>\n",
       "      <td>$59125-$62260/Annual</td>\n",
       "    </tr>\n",
       "    <tr>\n",
       "      <th>21</th>\n",
       "      <td>572056</td>\n",
       "      <td>DEPT OF ENVIRONMENT PROTECTION</td>\n",
       "      <td>1.0</td>\n",
       "      <td>Asset Management Program Planner</td>\n",
       "      <td>CITY RESEARCH SCIENTIST</td>\n",
       "      <td>Engineering, Architecture, &amp; Planning</td>\n",
       "      <td>Manager</td>\n",
       "      <td>84468</td>\n",
       "      <td>111003</td>\n",
       "      <td>Annual</td>\n",
       "      <td>96-05 Horace Harding Expway</td>\n",
       "      <td>The NYC Department of Environmental Protection...</td>\n",
       "      <td>1.  For Assignment Level I (only physical, bio...</td>\n",
       "      <td>2023-03-28T00:00:00.000</td>\n",
       "      <td>Not Provided</td>\n",
       "      <td>96-05 Horace Harding Expressway, 2nd floor, Co...</td>\n",
       "      <td>$84468-$111003/Annual</td>\n",
       "    </tr>\n",
       "    <tr>\n",
       "      <th>...</th>\n",
       "      <td>...</td>\n",
       "      <td>...</td>\n",
       "      <td>...</td>\n",
       "      <td>...</td>\n",
       "      <td>...</td>\n",
       "      <td>...</td>\n",
       "      <td>...</td>\n",
       "      <td>...</td>\n",
       "      <td>...</td>\n",
       "      <td>...</td>\n",
       "      <td>...</td>\n",
       "      <td>...</td>\n",
       "      <td>...</td>\n",
       "      <td>...</td>\n",
       "      <td>...</td>\n",
       "      <td>...</td>\n",
       "      <td>...</td>\n",
       "    </tr>\n",
       "    <tr>\n",
       "      <th>5728</th>\n",
       "      <td>566448</td>\n",
       "      <td>DEPT OF ENVIRONMENT PROTECTION</td>\n",
       "      <td>1.0</td>\n",
       "      <td>Director, Project Delivery</td>\n",
       "      <td>ADMINISTRATIVE CONSTRUCTION PR</td>\n",
       "      <td>Engineering, Architecture, &amp; Planning</td>\n",
       "      <td>Manager</td>\n",
       "      <td>80931</td>\n",
       "      <td>208826</td>\n",
       "      <td>Annual</td>\n",
       "      <td>96-05 Horace Harding Expway</td>\n",
       "      <td>***IMPORTANT NOTE: Only those currently servin...</td>\n",
       "      <td>At least six years of full-time satisfactory e...</td>\n",
       "      <td>2023-01-09T00:00:00.000</td>\n",
       "      <td>Not Provided</td>\n",
       "      <td>96-05 Horace Harding Expressway, 2nd Floor Cor...</td>\n",
       "      <td>$80931-$208826/Annual</td>\n",
       "    </tr>\n",
       "    <tr>\n",
       "      <th>5796</th>\n",
       "      <td>577826</td>\n",
       "      <td>DEPT OF ENVIRONMENT PROTECTION</td>\n",
       "      <td>2.0</td>\n",
       "      <td>Industrial Hygienist</td>\n",
       "      <td>INDUSTRIAL HYGIENIST</td>\n",
       "      <td>Health Public Safety, Inspections, &amp; Enforcement</td>\n",
       "      <td>Experienced (non-manager)</td>\n",
       "      <td>56041</td>\n",
       "      <td>75318</td>\n",
       "      <td>Annual</td>\n",
       "      <td>96-05 Horace Harding Expway</td>\n",
       "      <td>*** IMPORTANT NOTE: Only those currently servi...</td>\n",
       "      <td>1. A baccalaureate degree from an accredited c...</td>\n",
       "      <td>2023-03-24T00:00:00.000</td>\n",
       "      <td>Not Provided</td>\n",
       "      <td>96-05 Horace Harding Expressway, 2nd floor Cor...</td>\n",
       "      <td>$56041-$75318/Annual</td>\n",
       "    </tr>\n",
       "    <tr>\n",
       "      <th>5820</th>\n",
       "      <td>550774</td>\n",
       "      <td>DEPT OF ENVIRONMENT PROTECTION</td>\n",
       "      <td>1.0</td>\n",
       "      <td>Special Assistant to the CFO</td>\n",
       "      <td>ADMINISTRATIVE STAFF ANALYST (</td>\n",
       "      <td>Finance, Accounting, &amp; Procurement Policy, Res...</td>\n",
       "      <td>Experienced (non-manager)</td>\n",
       "      <td>94715</td>\n",
       "      <td>115000</td>\n",
       "      <td>Annual</td>\n",
       "      <td>59-17 Junction Blvd Corona Ny</td>\n",
       "      <td>PLEASE NOTE: APPLICANTS MUST BE PERMANENT IN T...</td>\n",
       "      <td>1. A master's degree from an accredited colleg...</td>\n",
       "      <td>2022-09-16T00:00:00.000</td>\n",
       "      <td>Not Provided</td>\n",
       "      <td>59-17 Junction Blvd Corona Ny</td>\n",
       "      <td>$94715-$115000/Annual</td>\n",
       "    </tr>\n",
       "    <tr>\n",
       "      <th>5844</th>\n",
       "      <td>551850</td>\n",
       "      <td>DEPT OF ENVIRONMENT PROTECTION</td>\n",
       "      <td>1.0</td>\n",
       "      <td>Energy Program Manager</td>\n",
       "      <td>CITY RESEARCH SCIENTIST</td>\n",
       "      <td>Engineering, Architecture, &amp; Planning Policy, ...</td>\n",
       "      <td>Experienced (non-manager)</td>\n",
       "      <td>94283</td>\n",
       "      <td>108426</td>\n",
       "      <td>Annual</td>\n",
       "      <td>96-05 Horace Harding Expway</td>\n",
       "      <td>The NYC Department of Environmental Protection...</td>\n",
       "      <td>1.  For Assignment Level I (only physical, bio...</td>\n",
       "      <td>2022-10-20T00:00:00.000</td>\n",
       "      <td>Not Provided</td>\n",
       "      <td>96-05 Horace Harding Expway</td>\n",
       "      <td>$94283-$108426/Annual</td>\n",
       "    </tr>\n",
       "    <tr>\n",
       "      <th>5894</th>\n",
       "      <td>583628</td>\n",
       "      <td>DEPT OF ENVIRONMENT PROTECTION</td>\n",
       "      <td>1.0</td>\n",
       "      <td>Construction Inspector</td>\n",
       "      <td>ASSOCIATE PROJECT MANAGER</td>\n",
       "      <td>Engineering, Architecture, &amp; Planning</td>\n",
       "      <td>Experienced (non-manager)</td>\n",
       "      <td>77921</td>\n",
       "      <td>98128</td>\n",
       "      <td>Annual</td>\n",
       "      <td>59-17 Junction Blvd Corona Ny</td>\n",
       "      <td>The NYC Department of Environmental Protection...</td>\n",
       "      <td>Qualification Requirements One year of full-ti...</td>\n",
       "      <td>2023-04-23T00:00:00.000</td>\n",
       "      <td>Not Provided</td>\n",
       "      <td></td>\n",
       "      <td>$77921-$98128/Annual</td>\n",
       "    </tr>\n",
       "  </tbody>\n",
       "</table>\n",
       "<p>546 rows × 17 columns</p>\n",
       "</div>"
      ],
      "text/plain": [
       "      Job ID                          agency  number_of_positions  \\\n",
       "1     560933  DEPT OF ENVIRONMENT PROTECTION                  1.0   \n",
       "7     573298  DEPT OF ENVIRONMENT PROTECTION                  1.0   \n",
       "12    552140  DEPT OF ENVIRONMENT PROTECTION                  2.0   \n",
       "20    574614  DEPT OF ENVIRONMENT PROTECTION                  1.0   \n",
       "21    572056  DEPT OF ENVIRONMENT PROTECTION                  1.0   \n",
       "...      ...                             ...                  ...   \n",
       "5728  566448  DEPT OF ENVIRONMENT PROTECTION                  1.0   \n",
       "5796  577826  DEPT OF ENVIRONMENT PROTECTION                  2.0   \n",
       "5820  550774  DEPT OF ENVIRONMENT PROTECTION                  1.0   \n",
       "5844  551850  DEPT OF ENVIRONMENT PROTECTION                  1.0   \n",
       "5894  583628  DEPT OF ENVIRONMENT PROTECTION                  1.0   \n",
       "\n",
       "                                            Title  \\\n",
       "1                         City Research Scientist   \n",
       "7     2023-BIT-001-Desktop Support Analyst Intern   \n",
       "12                       Civil Engineering Intern   \n",
       "20                  Mechanical Engineering Intern   \n",
       "21               Asset Management Program Planner   \n",
       "...                                           ...   \n",
       "5728                   Director, Project Delivery   \n",
       "5796                         Industrial Hygienist   \n",
       "5820                 Special Assistant to the CFO   \n",
       "5844                       Energy Program Manager   \n",
       "5894                       Construction Inspector   \n",
       "\n",
       "                 civil_service_title  \\\n",
       "1            CITY RESEARCH SCIENTIST   \n",
       "7              SUMMER COLLEGE INTERN   \n",
       "12          CIVIL ENGINEERING INTERN   \n",
       "20     MECHANICAL ENGINEERING INTERN   \n",
       "21           CITY RESEARCH SCIENTIST   \n",
       "...                              ...   \n",
       "5728  ADMINISTRATIVE CONSTRUCTION PR   \n",
       "5796            INDUSTRIAL HYGIENIST   \n",
       "5820  ADMINISTRATIVE STAFF ANALYST (   \n",
       "5844         CITY RESEARCH SCIENTIST   \n",
       "5894       ASSOCIATE PROJECT MANAGER   \n",
       "\n",
       "                                           job_category  \\\n",
       "1     Constituent Services & Community Programs Poli...   \n",
       "7                         Technology, Data & Innovation   \n",
       "12                Engineering, Architecture, & Planning   \n",
       "20                Engineering, Architecture, & Planning   \n",
       "21                Engineering, Architecture, & Planning   \n",
       "...                                                 ...   \n",
       "5728              Engineering, Architecture, & Planning   \n",
       "5796   Health Public Safety, Inspections, & Enforcement   \n",
       "5820  Finance, Accounting, & Procurement Policy, Res...   \n",
       "5844  Engineering, Architecture, & Planning Policy, ...   \n",
       "5894              Engineering, Architecture, & Planning   \n",
       "\n",
       "                   career_level salary_range_from salary_range_to  \\\n",
       "1     Experienced (non-manager)             75504           94761   \n",
       "7                       Student                15              15   \n",
       "12                  Entry-Level             51413           62260   \n",
       "20                  Entry-Level             59125           62260   \n",
       "21                      Manager             84468          111003   \n",
       "...                         ...               ...             ...   \n",
       "5728                    Manager             80931          208826   \n",
       "5796  Experienced (non-manager)             56041           75318   \n",
       "5820  Experienced (non-manager)             94715          115000   \n",
       "5844  Experienced (non-manager)             94283          108426   \n",
       "5894  Experienced (non-manager)             77921           98128   \n",
       "\n",
       "     salary_frequency                  work_location  \\\n",
       "1              Annual  59-17 Junction Blvd Corona Ny   \n",
       "7              Hourly  59-17 Junction Blvd Corona Ny   \n",
       "12             Annual  59-17 Junction Blvd Corona Ny   \n",
       "20             Annual  59-17 Junction Blvd Corona Ny   \n",
       "21             Annual    96-05 Horace Harding Expway   \n",
       "...               ...                            ...   \n",
       "5728           Annual    96-05 Horace Harding Expway   \n",
       "5796           Annual    96-05 Horace Harding Expway   \n",
       "5820           Annual  59-17 Junction Blvd Corona Ny   \n",
       "5844           Annual    96-05 Horace Harding Expway   \n",
       "5894           Annual  59-17 Junction Blvd Corona Ny   \n",
       "\n",
       "                                        job_description  \\\n",
       "1     The NYC Department of Environmental Protection...   \n",
       "7     The NYC Department of Environmental Protection...   \n",
       "12    The New York City Department of Environmental ...   \n",
       "20    The NYC Department of Environmental Protection...   \n",
       "21    The NYC Department of Environmental Protection...   \n",
       "...                                                 ...   \n",
       "5728  ***IMPORTANT NOTE: Only those currently servin...   \n",
       "5796  *** IMPORTANT NOTE: Only those currently servi...   \n",
       "5820  PLEASE NOTE: APPLICANTS MUST BE PERMANENT IN T...   \n",
       "5844  The NYC Department of Environmental Protection...   \n",
       "5894  The NYC Department of Environmental Protection...   \n",
       "\n",
       "                              minimum_qual_requirements  \\\n",
       "1     1.  For Assignment Level I (only physical, bio...   \n",
       "7     As of June of the Program year the prospective...   \n",
       "12    1. A baccalaureate degree in civil engineering...   \n",
       "20    1. A bachelor's degree in mechanical engineeri...   \n",
       "21    1.  For Assignment Level I (only physical, bio...   \n",
       "...                                                 ...   \n",
       "5728  At least six years of full-time satisfactory e...   \n",
       "5796  1. A baccalaureate degree from an accredited c...   \n",
       "5820  1. A master's degree from an accredited colleg...   \n",
       "5844  1.  For Assignment Level I (only physical, bio...   \n",
       "5894  Qualification Requirements One year of full-ti...   \n",
       "\n",
       "                 posting_date    Post Until  \\\n",
       "1     2022-11-16T00:00:00.000  Not Provided   \n",
       "7     2023-02-06T00:00:00.000   02-JUN-2023   \n",
       "12    2022-09-30T00:00:00.000  Not Provided   \n",
       "20    2023-02-15T00:00:00.000  Not Provided   \n",
       "21    2023-03-28T00:00:00.000  Not Provided   \n",
       "...                       ...           ...   \n",
       "5728  2023-01-09T00:00:00.000  Not Provided   \n",
       "5796  2023-03-24T00:00:00.000  Not Provided   \n",
       "5820  2022-09-16T00:00:00.000  Not Provided   \n",
       "5844  2022-10-20T00:00:00.000  Not Provided   \n",
       "5894  2023-04-23T00:00:00.000  Not Provided   \n",
       "\n",
       "                                        work_location_1                 Salary  \n",
       "1                                                         $75504-$94761/Annual  \n",
       "7        Main Office at 59-17 Junction Blvd, Corona NY.         $15-$15/Hourly  \n",
       "12                                                        $51413-$62260/Annual  \n",
       "20                                                        $59125-$62260/Annual  \n",
       "21    96-05 Horace Harding Expressway, 2nd floor, Co...  $84468-$111003/Annual  \n",
       "...                                                 ...                    ...  \n",
       "5728  96-05 Horace Harding Expressway, 2nd Floor Cor...  $80931-$208826/Annual  \n",
       "5796  96-05 Horace Harding Expressway, 2nd floor Cor...   $56041-$75318/Annual  \n",
       "5820                      59-17 Junction Blvd Corona Ny  $94715-$115000/Annual  \n",
       "5844                        96-05 Horace Harding Expway  $94283-$108426/Annual  \n",
       "5894                                                      $77921-$98128/Annual  \n",
       "\n",
       "[546 rows x 17 columns]"
      ]
     },
     "execution_count": 27,
     "metadata": {},
     "output_type": "execute_result"
    }
   ],
   "source": [
    "temp_df=df[df['agency']=='DEPT OF ENVIRONMENT PROTECTION']\n",
    "temp_df"
   ]
  },
  {
   "cell_type": "code",
   "execution_count": 22,
   "id": "3b9e8aab",
   "metadata": {},
   "outputs": [],
   "source": [
    "import plotly.express as px\n"
   ]
  },
  {
   "cell_type": "code",
   "execution_count": 23,
   "id": "aea5dc3d",
   "metadata": {},
   "outputs": [
    {
     "data": {
      "application/vnd.plotly.v1+json": {
       "config": {
        "plotlyServerURL": "https://plot.ly"
       },
       "data": [
        {
         "hovertemplate": "Month Year=%{x}<br>Job Count=%{y}<extra></extra>",
         "legendgroup": "",
         "line": {
          "color": "#636efa",
          "dash": "solid"
         },
         "marker": {
          "symbol": "circle"
         },
         "mode": "lines",
         "name": "",
         "orientation": "v",
         "showlegend": false,
         "type": "scatter",
         "x": [
          "2020-06-01T00:00:00",
          "2021-07-01T00:00:00",
          "2021-08-01T00:00:00",
          "2021-09-01T00:00:00",
          "2021-10-01T00:00:00",
          "2021-11-01T00:00:00",
          "2021-12-01T00:00:00",
          "2022-01-01T00:00:00",
          "2022-02-01T00:00:00",
          "2022-03-01T00:00:00",
          "2022-04-01T00:00:00",
          "2022-05-01T00:00:00",
          "2022-06-01T00:00:00",
          "2022-07-01T00:00:00",
          "2022-08-01T00:00:00",
          "2022-09-01T00:00:00",
          "2022-10-01T00:00:00",
          "2022-11-01T00:00:00",
          "2022-12-01T00:00:00",
          "2023-01-01T00:00:00",
          "2023-02-01T00:00:00",
          "2023-03-01T00:00:00",
          "2023-04-01T00:00:00",
          "2023-05-01T00:00:00"
         ],
         "xaxis": "x",
         "y": [
          1,
          3,
          8,
          9,
          4,
          7,
          28,
          12,
          51,
          49,
          121,
          67,
          151,
          492,
          221,
          441,
          187,
          304,
          332,
          803,
          943,
          1602,
          1015,
          705
         ],
         "yaxis": "y"
        }
       ],
       "layout": {
        "legend": {
         "tracegroupgap": 0
        },
        "margin": {
         "t": 60
        },
        "template": {
         "data": {
          "bar": [
           {
            "error_x": {
             "color": "#2a3f5f"
            },
            "error_y": {
             "color": "#2a3f5f"
            },
            "marker": {
             "line": {
              "color": "#E5ECF6",
              "width": 0.5
             },
             "pattern": {
              "fillmode": "overlay",
              "size": 10,
              "solidity": 0.2
             }
            },
            "type": "bar"
           }
          ],
          "barpolar": [
           {
            "marker": {
             "line": {
              "color": "#E5ECF6",
              "width": 0.5
             },
             "pattern": {
              "fillmode": "overlay",
              "size": 10,
              "solidity": 0.2
             }
            },
            "type": "barpolar"
           }
          ],
          "carpet": [
           {
            "aaxis": {
             "endlinecolor": "#2a3f5f",
             "gridcolor": "white",
             "linecolor": "white",
             "minorgridcolor": "white",
             "startlinecolor": "#2a3f5f"
            },
            "baxis": {
             "endlinecolor": "#2a3f5f",
             "gridcolor": "white",
             "linecolor": "white",
             "minorgridcolor": "white",
             "startlinecolor": "#2a3f5f"
            },
            "type": "carpet"
           }
          ],
          "choropleth": [
           {
            "colorbar": {
             "outlinewidth": 0,
             "ticks": ""
            },
            "type": "choropleth"
           }
          ],
          "contour": [
           {
            "colorbar": {
             "outlinewidth": 0,
             "ticks": ""
            },
            "colorscale": [
             [
              0,
              "#0d0887"
             ],
             [
              0.1111111111111111,
              "#46039f"
             ],
             [
              0.2222222222222222,
              "#7201a8"
             ],
             [
              0.3333333333333333,
              "#9c179e"
             ],
             [
              0.4444444444444444,
              "#bd3786"
             ],
             [
              0.5555555555555556,
              "#d8576b"
             ],
             [
              0.6666666666666666,
              "#ed7953"
             ],
             [
              0.7777777777777778,
              "#fb9f3a"
             ],
             [
              0.8888888888888888,
              "#fdca26"
             ],
             [
              1,
              "#f0f921"
             ]
            ],
            "type": "contour"
           }
          ],
          "contourcarpet": [
           {
            "colorbar": {
             "outlinewidth": 0,
             "ticks": ""
            },
            "type": "contourcarpet"
           }
          ],
          "heatmap": [
           {
            "colorbar": {
             "outlinewidth": 0,
             "ticks": ""
            },
            "colorscale": [
             [
              0,
              "#0d0887"
             ],
             [
              0.1111111111111111,
              "#46039f"
             ],
             [
              0.2222222222222222,
              "#7201a8"
             ],
             [
              0.3333333333333333,
              "#9c179e"
             ],
             [
              0.4444444444444444,
              "#bd3786"
             ],
             [
              0.5555555555555556,
              "#d8576b"
             ],
             [
              0.6666666666666666,
              "#ed7953"
             ],
             [
              0.7777777777777778,
              "#fb9f3a"
             ],
             [
              0.8888888888888888,
              "#fdca26"
             ],
             [
              1,
              "#f0f921"
             ]
            ],
            "type": "heatmap"
           }
          ],
          "heatmapgl": [
           {
            "colorbar": {
             "outlinewidth": 0,
             "ticks": ""
            },
            "colorscale": [
             [
              0,
              "#0d0887"
             ],
             [
              0.1111111111111111,
              "#46039f"
             ],
             [
              0.2222222222222222,
              "#7201a8"
             ],
             [
              0.3333333333333333,
              "#9c179e"
             ],
             [
              0.4444444444444444,
              "#bd3786"
             ],
             [
              0.5555555555555556,
              "#d8576b"
             ],
             [
              0.6666666666666666,
              "#ed7953"
             ],
             [
              0.7777777777777778,
              "#fb9f3a"
             ],
             [
              0.8888888888888888,
              "#fdca26"
             ],
             [
              1,
              "#f0f921"
             ]
            ],
            "type": "heatmapgl"
           }
          ],
          "histogram": [
           {
            "marker": {
             "pattern": {
              "fillmode": "overlay",
              "size": 10,
              "solidity": 0.2
             }
            },
            "type": "histogram"
           }
          ],
          "histogram2d": [
           {
            "colorbar": {
             "outlinewidth": 0,
             "ticks": ""
            },
            "colorscale": [
             [
              0,
              "#0d0887"
             ],
             [
              0.1111111111111111,
              "#46039f"
             ],
             [
              0.2222222222222222,
              "#7201a8"
             ],
             [
              0.3333333333333333,
              "#9c179e"
             ],
             [
              0.4444444444444444,
              "#bd3786"
             ],
             [
              0.5555555555555556,
              "#d8576b"
             ],
             [
              0.6666666666666666,
              "#ed7953"
             ],
             [
              0.7777777777777778,
              "#fb9f3a"
             ],
             [
              0.8888888888888888,
              "#fdca26"
             ],
             [
              1,
              "#f0f921"
             ]
            ],
            "type": "histogram2d"
           }
          ],
          "histogram2dcontour": [
           {
            "colorbar": {
             "outlinewidth": 0,
             "ticks": ""
            },
            "colorscale": [
             [
              0,
              "#0d0887"
             ],
             [
              0.1111111111111111,
              "#46039f"
             ],
             [
              0.2222222222222222,
              "#7201a8"
             ],
             [
              0.3333333333333333,
              "#9c179e"
             ],
             [
              0.4444444444444444,
              "#bd3786"
             ],
             [
              0.5555555555555556,
              "#d8576b"
             ],
             [
              0.6666666666666666,
              "#ed7953"
             ],
             [
              0.7777777777777778,
              "#fb9f3a"
             ],
             [
              0.8888888888888888,
              "#fdca26"
             ],
             [
              1,
              "#f0f921"
             ]
            ],
            "type": "histogram2dcontour"
           }
          ],
          "mesh3d": [
           {
            "colorbar": {
             "outlinewidth": 0,
             "ticks": ""
            },
            "type": "mesh3d"
           }
          ],
          "parcoords": [
           {
            "line": {
             "colorbar": {
              "outlinewidth": 0,
              "ticks": ""
             }
            },
            "type": "parcoords"
           }
          ],
          "pie": [
           {
            "automargin": true,
            "type": "pie"
           }
          ],
          "scatter": [
           {
            "marker": {
             "colorbar": {
              "outlinewidth": 0,
              "ticks": ""
             }
            },
            "type": "scatter"
           }
          ],
          "scatter3d": [
           {
            "line": {
             "colorbar": {
              "outlinewidth": 0,
              "ticks": ""
             }
            },
            "marker": {
             "colorbar": {
              "outlinewidth": 0,
              "ticks": ""
             }
            },
            "type": "scatter3d"
           }
          ],
          "scattercarpet": [
           {
            "marker": {
             "colorbar": {
              "outlinewidth": 0,
              "ticks": ""
             }
            },
            "type": "scattercarpet"
           }
          ],
          "scattergeo": [
           {
            "marker": {
             "colorbar": {
              "outlinewidth": 0,
              "ticks": ""
             }
            },
            "type": "scattergeo"
           }
          ],
          "scattergl": [
           {
            "marker": {
             "colorbar": {
              "outlinewidth": 0,
              "ticks": ""
             }
            },
            "type": "scattergl"
           }
          ],
          "scattermapbox": [
           {
            "marker": {
             "colorbar": {
              "outlinewidth": 0,
              "ticks": ""
             }
            },
            "type": "scattermapbox"
           }
          ],
          "scatterpolar": [
           {
            "marker": {
             "colorbar": {
              "outlinewidth": 0,
              "ticks": ""
             }
            },
            "type": "scatterpolar"
           }
          ],
          "scatterpolargl": [
           {
            "marker": {
             "colorbar": {
              "outlinewidth": 0,
              "ticks": ""
             }
            },
            "type": "scatterpolargl"
           }
          ],
          "scatterternary": [
           {
            "marker": {
             "colorbar": {
              "outlinewidth": 0,
              "ticks": ""
             }
            },
            "type": "scatterternary"
           }
          ],
          "surface": [
           {
            "colorbar": {
             "outlinewidth": 0,
             "ticks": ""
            },
            "colorscale": [
             [
              0,
              "#0d0887"
             ],
             [
              0.1111111111111111,
              "#46039f"
             ],
             [
              0.2222222222222222,
              "#7201a8"
             ],
             [
              0.3333333333333333,
              "#9c179e"
             ],
             [
              0.4444444444444444,
              "#bd3786"
             ],
             [
              0.5555555555555556,
              "#d8576b"
             ],
             [
              0.6666666666666666,
              "#ed7953"
             ],
             [
              0.7777777777777778,
              "#fb9f3a"
             ],
             [
              0.8888888888888888,
              "#fdca26"
             ],
             [
              1,
              "#f0f921"
             ]
            ],
            "type": "surface"
           }
          ],
          "table": [
           {
            "cells": {
             "fill": {
              "color": "#EBF0F8"
             },
             "line": {
              "color": "white"
             }
            },
            "header": {
             "fill": {
              "color": "#C8D4E3"
             },
             "line": {
              "color": "white"
             }
            },
            "type": "table"
           }
          ]
         },
         "layout": {
          "annotationdefaults": {
           "arrowcolor": "#2a3f5f",
           "arrowhead": 0,
           "arrowwidth": 1
          },
          "autotypenumbers": "strict",
          "coloraxis": {
           "colorbar": {
            "outlinewidth": 0,
            "ticks": ""
           }
          },
          "colorscale": {
           "diverging": [
            [
             0,
             "#8e0152"
            ],
            [
             0.1,
             "#c51b7d"
            ],
            [
             0.2,
             "#de77ae"
            ],
            [
             0.3,
             "#f1b6da"
            ],
            [
             0.4,
             "#fde0ef"
            ],
            [
             0.5,
             "#f7f7f7"
            ],
            [
             0.6,
             "#e6f5d0"
            ],
            [
             0.7,
             "#b8e186"
            ],
            [
             0.8,
             "#7fbc41"
            ],
            [
             0.9,
             "#4d9221"
            ],
            [
             1,
             "#276419"
            ]
           ],
           "sequential": [
            [
             0,
             "#0d0887"
            ],
            [
             0.1111111111111111,
             "#46039f"
            ],
            [
             0.2222222222222222,
             "#7201a8"
            ],
            [
             0.3333333333333333,
             "#9c179e"
            ],
            [
             0.4444444444444444,
             "#bd3786"
            ],
            [
             0.5555555555555556,
             "#d8576b"
            ],
            [
             0.6666666666666666,
             "#ed7953"
            ],
            [
             0.7777777777777778,
             "#fb9f3a"
            ],
            [
             0.8888888888888888,
             "#fdca26"
            ],
            [
             1,
             "#f0f921"
            ]
           ],
           "sequentialminus": [
            [
             0,
             "#0d0887"
            ],
            [
             0.1111111111111111,
             "#46039f"
            ],
            [
             0.2222222222222222,
             "#7201a8"
            ],
            [
             0.3333333333333333,
             "#9c179e"
            ],
            [
             0.4444444444444444,
             "#bd3786"
            ],
            [
             0.5555555555555556,
             "#d8576b"
            ],
            [
             0.6666666666666666,
             "#ed7953"
            ],
            [
             0.7777777777777778,
             "#fb9f3a"
            ],
            [
             0.8888888888888888,
             "#fdca26"
            ],
            [
             1,
             "#f0f921"
            ]
           ]
          },
          "colorway": [
           "#636efa",
           "#EF553B",
           "#00cc96",
           "#ab63fa",
           "#FFA15A",
           "#19d3f3",
           "#FF6692",
           "#B6E880",
           "#FF97FF",
           "#FECB52"
          ],
          "font": {
           "color": "#2a3f5f"
          },
          "geo": {
           "bgcolor": "white",
           "lakecolor": "white",
           "landcolor": "#E5ECF6",
           "showlakes": true,
           "showland": true,
           "subunitcolor": "white"
          },
          "hoverlabel": {
           "align": "left"
          },
          "hovermode": "closest",
          "mapbox": {
           "style": "light"
          },
          "paper_bgcolor": "white",
          "plot_bgcolor": "#E5ECF6",
          "polar": {
           "angularaxis": {
            "gridcolor": "white",
            "linecolor": "white",
            "ticks": ""
           },
           "bgcolor": "#E5ECF6",
           "radialaxis": {
            "gridcolor": "white",
            "linecolor": "white",
            "ticks": ""
           }
          },
          "scene": {
           "xaxis": {
            "backgroundcolor": "#E5ECF6",
            "gridcolor": "white",
            "gridwidth": 2,
            "linecolor": "white",
            "showbackground": true,
            "ticks": "",
            "zerolinecolor": "white"
           },
           "yaxis": {
            "backgroundcolor": "#E5ECF6",
            "gridcolor": "white",
            "gridwidth": 2,
            "linecolor": "white",
            "showbackground": true,
            "ticks": "",
            "zerolinecolor": "white"
           },
           "zaxis": {
            "backgroundcolor": "#E5ECF6",
            "gridcolor": "white",
            "gridwidth": 2,
            "linecolor": "white",
            "showbackground": true,
            "ticks": "",
            "zerolinecolor": "white"
           }
          },
          "shapedefaults": {
           "line": {
            "color": "#2a3f5f"
           }
          },
          "ternary": {
           "aaxis": {
            "gridcolor": "white",
            "linecolor": "white",
            "ticks": ""
           },
           "baxis": {
            "gridcolor": "white",
            "linecolor": "white",
            "ticks": ""
           },
           "bgcolor": "#E5ECF6",
           "caxis": {
            "gridcolor": "white",
            "linecolor": "white",
            "ticks": ""
           }
          },
          "title": {
           "x": 0.05
          },
          "xaxis": {
           "automargin": true,
           "gridcolor": "white",
           "linecolor": "white",
           "ticks": "",
           "title": {
            "standoff": 15
           },
           "zerolinecolor": "white",
           "zerolinewidth": 2
          },
          "yaxis": {
           "automargin": true,
           "gridcolor": "white",
           "linecolor": "white",
           "ticks": "",
           "title": {
            "standoff": 15
           },
           "zerolinecolor": "white",
           "zerolinewidth": 2
          }
         }
        },
        "xaxis": {
         "anchor": "y",
         "domain": [
          0,
          1
         ],
         "title": {
          "text": "Month Year"
         }
        },
        "yaxis": {
         "anchor": "x",
         "domain": [
          0,
          1
         ],
         "title": {
          "text": "Job Count"
         }
        }
       }
      },
      "text/html": [
       "<div>                            <div id=\"95be73c9-287b-470b-9023-41a95a1d3dec\" class=\"plotly-graph-div\" style=\"height:525px; width:100%;\"></div>            <script type=\"text/javascript\">                require([\"plotly\"], function(Plotly) {                    window.PLOTLYENV=window.PLOTLYENV || {};                                    if (document.getElementById(\"95be73c9-287b-470b-9023-41a95a1d3dec\")) {                    Plotly.newPlot(                        \"95be73c9-287b-470b-9023-41a95a1d3dec\",                        [{\"hovertemplate\":\"Month Year=%{x}<br>Job Count=%{y}<extra></extra>\",\"legendgroup\":\"\",\"line\":{\"color\":\"#636efa\",\"dash\":\"solid\"},\"marker\":{\"symbol\":\"circle\"},\"mode\":\"lines\",\"name\":\"\",\"orientation\":\"v\",\"showlegend\":false,\"x\":[\"2020-06-01T00:00:00\",\"2021-07-01T00:00:00\",\"2021-08-01T00:00:00\",\"2021-09-01T00:00:00\",\"2021-10-01T00:00:00\",\"2021-11-01T00:00:00\",\"2021-12-01T00:00:00\",\"2022-01-01T00:00:00\",\"2022-02-01T00:00:00\",\"2022-03-01T00:00:00\",\"2022-04-01T00:00:00\",\"2022-05-01T00:00:00\",\"2022-06-01T00:00:00\",\"2022-07-01T00:00:00\",\"2022-08-01T00:00:00\",\"2022-09-01T00:00:00\",\"2022-10-01T00:00:00\",\"2022-11-01T00:00:00\",\"2022-12-01T00:00:00\",\"2023-01-01T00:00:00\",\"2023-02-01T00:00:00\",\"2023-03-01T00:00:00\",\"2023-04-01T00:00:00\",\"2023-05-01T00:00:00\"],\"xaxis\":\"x\",\"y\":[1.0,3.0,8.0,9.0,4.0,7.0,28.0,12.0,51.0,49.0,121.0,67.0,151.0,492.0,221.0,441.0,187.0,304.0,332.0,803.0,943.0,1602.0,1015.0,705.0],\"yaxis\":\"y\",\"type\":\"scatter\"}],                        {\"template\":{\"data\":{\"bar\":[{\"error_x\":{\"color\":\"#2a3f5f\"},\"error_y\":{\"color\":\"#2a3f5f\"},\"marker\":{\"line\":{\"color\":\"#E5ECF6\",\"width\":0.5},\"pattern\":{\"fillmode\":\"overlay\",\"size\":10,\"solidity\":0.2}},\"type\":\"bar\"}],\"barpolar\":[{\"marker\":{\"line\":{\"color\":\"#E5ECF6\",\"width\":0.5},\"pattern\":{\"fillmode\":\"overlay\",\"size\":10,\"solidity\":0.2}},\"type\":\"barpolar\"}],\"carpet\":[{\"aaxis\":{\"endlinecolor\":\"#2a3f5f\",\"gridcolor\":\"white\",\"linecolor\":\"white\",\"minorgridcolor\":\"white\",\"startlinecolor\":\"#2a3f5f\"},\"baxis\":{\"endlinecolor\":\"#2a3f5f\",\"gridcolor\":\"white\",\"linecolor\":\"white\",\"minorgridcolor\":\"white\",\"startlinecolor\":\"#2a3f5f\"},\"type\":\"carpet\"}],\"choropleth\":[{\"colorbar\":{\"outlinewidth\":0,\"ticks\":\"\"},\"type\":\"choropleth\"}],\"contour\":[{\"colorbar\":{\"outlinewidth\":0,\"ticks\":\"\"},\"colorscale\":[[0.0,\"#0d0887\"],[0.1111111111111111,\"#46039f\"],[0.2222222222222222,\"#7201a8\"],[0.3333333333333333,\"#9c179e\"],[0.4444444444444444,\"#bd3786\"],[0.5555555555555556,\"#d8576b\"],[0.6666666666666666,\"#ed7953\"],[0.7777777777777778,\"#fb9f3a\"],[0.8888888888888888,\"#fdca26\"],[1.0,\"#f0f921\"]],\"type\":\"contour\"}],\"contourcarpet\":[{\"colorbar\":{\"outlinewidth\":0,\"ticks\":\"\"},\"type\":\"contourcarpet\"}],\"heatmap\":[{\"colorbar\":{\"outlinewidth\":0,\"ticks\":\"\"},\"colorscale\":[[0.0,\"#0d0887\"],[0.1111111111111111,\"#46039f\"],[0.2222222222222222,\"#7201a8\"],[0.3333333333333333,\"#9c179e\"],[0.4444444444444444,\"#bd3786\"],[0.5555555555555556,\"#d8576b\"],[0.6666666666666666,\"#ed7953\"],[0.7777777777777778,\"#fb9f3a\"],[0.8888888888888888,\"#fdca26\"],[1.0,\"#f0f921\"]],\"type\":\"heatmap\"}],\"heatmapgl\":[{\"colorbar\":{\"outlinewidth\":0,\"ticks\":\"\"},\"colorscale\":[[0.0,\"#0d0887\"],[0.1111111111111111,\"#46039f\"],[0.2222222222222222,\"#7201a8\"],[0.3333333333333333,\"#9c179e\"],[0.4444444444444444,\"#bd3786\"],[0.5555555555555556,\"#d8576b\"],[0.6666666666666666,\"#ed7953\"],[0.7777777777777778,\"#fb9f3a\"],[0.8888888888888888,\"#fdca26\"],[1.0,\"#f0f921\"]],\"type\":\"heatmapgl\"}],\"histogram\":[{\"marker\":{\"pattern\":{\"fillmode\":\"overlay\",\"size\":10,\"solidity\":0.2}},\"type\":\"histogram\"}],\"histogram2d\":[{\"colorbar\":{\"outlinewidth\":0,\"ticks\":\"\"},\"colorscale\":[[0.0,\"#0d0887\"],[0.1111111111111111,\"#46039f\"],[0.2222222222222222,\"#7201a8\"],[0.3333333333333333,\"#9c179e\"],[0.4444444444444444,\"#bd3786\"],[0.5555555555555556,\"#d8576b\"],[0.6666666666666666,\"#ed7953\"],[0.7777777777777778,\"#fb9f3a\"],[0.8888888888888888,\"#fdca26\"],[1.0,\"#f0f921\"]],\"type\":\"histogram2d\"}],\"histogram2dcontour\":[{\"colorbar\":{\"outlinewidth\":0,\"ticks\":\"\"},\"colorscale\":[[0.0,\"#0d0887\"],[0.1111111111111111,\"#46039f\"],[0.2222222222222222,\"#7201a8\"],[0.3333333333333333,\"#9c179e\"],[0.4444444444444444,\"#bd3786\"],[0.5555555555555556,\"#d8576b\"],[0.6666666666666666,\"#ed7953\"],[0.7777777777777778,\"#fb9f3a\"],[0.8888888888888888,\"#fdca26\"],[1.0,\"#f0f921\"]],\"type\":\"histogram2dcontour\"}],\"mesh3d\":[{\"colorbar\":{\"outlinewidth\":0,\"ticks\":\"\"},\"type\":\"mesh3d\"}],\"parcoords\":[{\"line\":{\"colorbar\":{\"outlinewidth\":0,\"ticks\":\"\"}},\"type\":\"parcoords\"}],\"pie\":[{\"automargin\":true,\"type\":\"pie\"}],\"scatter\":[{\"marker\":{\"colorbar\":{\"outlinewidth\":0,\"ticks\":\"\"}},\"type\":\"scatter\"}],\"scatter3d\":[{\"line\":{\"colorbar\":{\"outlinewidth\":0,\"ticks\":\"\"}},\"marker\":{\"colorbar\":{\"outlinewidth\":0,\"ticks\":\"\"}},\"type\":\"scatter3d\"}],\"scattercarpet\":[{\"marker\":{\"colorbar\":{\"outlinewidth\":0,\"ticks\":\"\"}},\"type\":\"scattercarpet\"}],\"scattergeo\":[{\"marker\":{\"colorbar\":{\"outlinewidth\":0,\"ticks\":\"\"}},\"type\":\"scattergeo\"}],\"scattergl\":[{\"marker\":{\"colorbar\":{\"outlinewidth\":0,\"ticks\":\"\"}},\"type\":\"scattergl\"}],\"scattermapbox\":[{\"marker\":{\"colorbar\":{\"outlinewidth\":0,\"ticks\":\"\"}},\"type\":\"scattermapbox\"}],\"scatterpolar\":[{\"marker\":{\"colorbar\":{\"outlinewidth\":0,\"ticks\":\"\"}},\"type\":\"scatterpolar\"}],\"scatterpolargl\":[{\"marker\":{\"colorbar\":{\"outlinewidth\":0,\"ticks\":\"\"}},\"type\":\"scatterpolargl\"}],\"scatterternary\":[{\"marker\":{\"colorbar\":{\"outlinewidth\":0,\"ticks\":\"\"}},\"type\":\"scatterternary\"}],\"surface\":[{\"colorbar\":{\"outlinewidth\":0,\"ticks\":\"\"},\"colorscale\":[[0.0,\"#0d0887\"],[0.1111111111111111,\"#46039f\"],[0.2222222222222222,\"#7201a8\"],[0.3333333333333333,\"#9c179e\"],[0.4444444444444444,\"#bd3786\"],[0.5555555555555556,\"#d8576b\"],[0.6666666666666666,\"#ed7953\"],[0.7777777777777778,\"#fb9f3a\"],[0.8888888888888888,\"#fdca26\"],[1.0,\"#f0f921\"]],\"type\":\"surface\"}],\"table\":[{\"cells\":{\"fill\":{\"color\":\"#EBF0F8\"},\"line\":{\"color\":\"white\"}},\"header\":{\"fill\":{\"color\":\"#C8D4E3\"},\"line\":{\"color\":\"white\"}},\"type\":\"table\"}]},\"layout\":{\"annotationdefaults\":{\"arrowcolor\":\"#2a3f5f\",\"arrowhead\":0,\"arrowwidth\":1},\"autotypenumbers\":\"strict\",\"coloraxis\":{\"colorbar\":{\"outlinewidth\":0,\"ticks\":\"\"}},\"colorscale\":{\"diverging\":[[0,\"#8e0152\"],[0.1,\"#c51b7d\"],[0.2,\"#de77ae\"],[0.3,\"#f1b6da\"],[0.4,\"#fde0ef\"],[0.5,\"#f7f7f7\"],[0.6,\"#e6f5d0\"],[0.7,\"#b8e186\"],[0.8,\"#7fbc41\"],[0.9,\"#4d9221\"],[1,\"#276419\"]],\"sequential\":[[0.0,\"#0d0887\"],[0.1111111111111111,\"#46039f\"],[0.2222222222222222,\"#7201a8\"],[0.3333333333333333,\"#9c179e\"],[0.4444444444444444,\"#bd3786\"],[0.5555555555555556,\"#d8576b\"],[0.6666666666666666,\"#ed7953\"],[0.7777777777777778,\"#fb9f3a\"],[0.8888888888888888,\"#fdca26\"],[1.0,\"#f0f921\"]],\"sequentialminus\":[[0.0,\"#0d0887\"],[0.1111111111111111,\"#46039f\"],[0.2222222222222222,\"#7201a8\"],[0.3333333333333333,\"#9c179e\"],[0.4444444444444444,\"#bd3786\"],[0.5555555555555556,\"#d8576b\"],[0.6666666666666666,\"#ed7953\"],[0.7777777777777778,\"#fb9f3a\"],[0.8888888888888888,\"#fdca26\"],[1.0,\"#f0f921\"]]},\"colorway\":[\"#636efa\",\"#EF553B\",\"#00cc96\",\"#ab63fa\",\"#FFA15A\",\"#19d3f3\",\"#FF6692\",\"#B6E880\",\"#FF97FF\",\"#FECB52\"],\"font\":{\"color\":\"#2a3f5f\"},\"geo\":{\"bgcolor\":\"white\",\"lakecolor\":\"white\",\"landcolor\":\"#E5ECF6\",\"showlakes\":true,\"showland\":true,\"subunitcolor\":\"white\"},\"hoverlabel\":{\"align\":\"left\"},\"hovermode\":\"closest\",\"mapbox\":{\"style\":\"light\"},\"paper_bgcolor\":\"white\",\"plot_bgcolor\":\"#E5ECF6\",\"polar\":{\"angularaxis\":{\"gridcolor\":\"white\",\"linecolor\":\"white\",\"ticks\":\"\"},\"bgcolor\":\"#E5ECF6\",\"radialaxis\":{\"gridcolor\":\"white\",\"linecolor\":\"white\",\"ticks\":\"\"}},\"scene\":{\"xaxis\":{\"backgroundcolor\":\"#E5ECF6\",\"gridcolor\":\"white\",\"gridwidth\":2,\"linecolor\":\"white\",\"showbackground\":true,\"ticks\":\"\",\"zerolinecolor\":\"white\"},\"yaxis\":{\"backgroundcolor\":\"#E5ECF6\",\"gridcolor\":\"white\",\"gridwidth\":2,\"linecolor\":\"white\",\"showbackground\":true,\"ticks\":\"\",\"zerolinecolor\":\"white\"},\"zaxis\":{\"backgroundcolor\":\"#E5ECF6\",\"gridcolor\":\"white\",\"gridwidth\":2,\"linecolor\":\"white\",\"showbackground\":true,\"ticks\":\"\",\"zerolinecolor\":\"white\"}},\"shapedefaults\":{\"line\":{\"color\":\"#2a3f5f\"}},\"ternary\":{\"aaxis\":{\"gridcolor\":\"white\",\"linecolor\":\"white\",\"ticks\":\"\"},\"baxis\":{\"gridcolor\":\"white\",\"linecolor\":\"white\",\"ticks\":\"\"},\"bgcolor\":\"#E5ECF6\",\"caxis\":{\"gridcolor\":\"white\",\"linecolor\":\"white\",\"ticks\":\"\"}},\"title\":{\"x\":0.05},\"xaxis\":{\"automargin\":true,\"gridcolor\":\"white\",\"linecolor\":\"white\",\"ticks\":\"\",\"title\":{\"standoff\":15},\"zerolinecolor\":\"white\",\"zerolinewidth\":2},\"yaxis\":{\"automargin\":true,\"gridcolor\":\"white\",\"linecolor\":\"white\",\"ticks\":\"\",\"title\":{\"standoff\":15},\"zerolinecolor\":\"white\",\"zerolinewidth\":2}}},\"xaxis\":{\"anchor\":\"y\",\"domain\":[0.0,1.0],\"title\":{\"text\":\"Month Year\"}},\"yaxis\":{\"anchor\":\"x\",\"domain\":[0.0,1.0],\"title\":{\"text\":\"Job Count\"}},\"legend\":{\"tracegroupgap\":0},\"margin\":{\"t\":60}},                        {\"responsive\": true}                    ).then(function(){\n",
       "                            \n",
       "var gd = document.getElementById('95be73c9-287b-470b-9023-41a95a1d3dec');\n",
       "var x = new MutationObserver(function (mutations, observer) {{\n",
       "        var display = window.getComputedStyle(gd).display;\n",
       "        if (!display || display === 'none') {{\n",
       "            console.log([gd, 'removed!']);\n",
       "            Plotly.purge(gd);\n",
       "            observer.disconnect();\n",
       "        }}\n",
       "}});\n",
       "\n",
       "// Listen for the removal of the full notebook cells\n",
       "var notebookContainer = gd.closest('#notebook-container');\n",
       "if (notebookContainer) {{\n",
       "    x.observe(notebookContainer, {childList: true});\n",
       "}}\n",
       "\n",
       "// Listen for the clearing of the current output cell\n",
       "var outputEl = gd.closest('.output');\n",
       "if (outputEl) {{\n",
       "    x.observe(outputEl, {childList: true});\n",
       "}}\n",
       "\n",
       "                        })                };                });            </script>        </div>"
      ]
     },
     "metadata": {},
     "output_type": "display_data"
    }
   ],
   "source": [
    "line_chart_date = df.copy()\n",
    "line_chart_date['posting_date'] = pd.to_datetime(line_chart_date['posting_date'])\n",
    "line_chart_date['month_year'] = line_chart_date['posting_date'].dt.strftime('%m/%Y')\n",
    "jobs_per_month=line_chart_date.groupby('month_year')['number_of_positions'].sum().astype(float).reset_index()\n",
    "\n",
    "jobs_per_month = jobs_per_month.rename(columns={'month_year': 'Month Year', 'number_of_positions': 'Job Count'})\n",
    "\n",
    "# Convert 'Month Year' to a pandas datetime column to sort\n",
    "jobs_per_month['Month Year'] = pd.to_datetime(jobs_per_month['Month Year'], format='%m/%Y')\n",
    "jobs_per_month = jobs_per_month.sort_values('Month Year')\n",
    "\n",
    "fig = px.line(jobs_per_month, x='Month Year', y='Job Count')\n",
    "fig.show()"
   ]
  },
  {
   "cell_type": "markdown",
   "id": "d119d27e",
   "metadata": {},
   "source": [
    "## Trying to improve visuals"
   ]
  },
  {
   "cell_type": "code",
   "execution_count": null,
   "id": "30f8c3f5",
   "metadata": {},
   "outputs": [],
   "source": [
    "import numpy as np\n",
    "new_df=df[df['career_level']=='Experienced (non-manager)']\n",
    "agency = new_df.groupby(['agency' , 'job_category'])['number_of_positions'].sum().astype(float).reset_index()\n",
    "\n",
    "a=agency.pivot(index='agency',columns='job_category',values='number_of_positions').fillna(0)\n",
    "\n",
    "\n",
    "plt.figure(figsize=(100,100))\n",
    "\n",
    "\n",
    "sns.heatmap(a, annot=True, cmap=\"tab20\",linecolor='black',linewidth=2)"
   ]
  },
  {
   "cell_type": "code",
   "execution_count": null,
   "id": "a3497694",
   "metadata": {},
   "outputs": [],
   "source": []
  },
  {
   "cell_type": "code",
   "execution_count": 25,
   "id": "aa99954d",
   "metadata": {},
   "outputs": [],
   "source": [
    "import plotly.graph_objects as go\n"
   ]
  },
  {
   "cell_type": "code",
   "execution_count": null,
   "id": "67d035f5",
   "metadata": {},
   "outputs": [],
   "source": []
  },
  {
   "cell_type": "code",
   "execution_count": null,
   "id": "e09705f5",
   "metadata": {},
   "outputs": [],
   "source": []
  },
  {
   "cell_type": "code",
   "execution_count": 26,
   "id": "1e6f087c",
   "metadata": {},
   "outputs": [],
   "source": [
    "import plotly.express as px\n"
   ]
  },
  {
   "cell_type": "code",
   "execution_count": null,
   "id": "599b78b6",
   "metadata": {},
   "outputs": [],
   "source": []
  },
  {
   "cell_type": "code",
   "execution_count": 27,
   "id": "9505765b",
   "metadata": {},
   "outputs": [],
   "source": [
    "sum_column = sum(int(val) for val in df['number_of_positions'])\n",
    "\n"
   ]
  },
  {
   "cell_type": "code",
   "execution_count": 28,
   "id": "1d3eec4a",
   "metadata": {},
   "outputs": [
    {
     "data": {
      "text/plain": [
       "7556"
      ]
     },
     "execution_count": 28,
     "metadata": {},
     "output_type": "execute_result"
    }
   ],
   "source": [
    "sum_column"
   ]
  },
  {
   "cell_type": "code",
   "execution_count": 29,
   "id": "e5076e86",
   "metadata": {},
   "outputs": [
    {
     "data": {
      "application/vnd.plotly.v1+json": {
       "config": {
        "plotlyServerURL": "https://plot.ly"
       },
       "data": [
        {
         "hovertemplate": "Month Year=%{x}<br>Job Count=%{y}<extra></extra>",
         "legendgroup": "",
         "line": {
          "color": "#636efa",
          "dash": "solid"
         },
         "marker": {
          "symbol": "circle"
         },
         "mode": "lines",
         "name": "",
         "orientation": "v",
         "showlegend": false,
         "type": "scatter",
         "x": [
          "2020-06-01T00:00:00",
          "2021-07-01T00:00:00",
          "2021-08-01T00:00:00",
          "2021-09-01T00:00:00",
          "2021-10-01T00:00:00",
          "2021-11-01T00:00:00",
          "2021-12-01T00:00:00",
          "2022-01-01T00:00:00",
          "2022-02-01T00:00:00",
          "2022-03-01T00:00:00",
          "2022-04-01T00:00:00",
          "2022-05-01T00:00:00",
          "2022-06-01T00:00:00",
          "2022-07-01T00:00:00",
          "2022-08-01T00:00:00",
          "2022-09-01T00:00:00",
          "2022-10-01T00:00:00",
          "2022-11-01T00:00:00",
          "2022-12-01T00:00:00",
          "2023-01-01T00:00:00",
          "2023-02-01T00:00:00",
          "2023-03-01T00:00:00",
          "2023-04-01T00:00:00",
          "2023-05-01T00:00:00"
         ],
         "xaxis": "x",
         "y": [
          1,
          3,
          7,
          8,
          4,
          4,
          17,
          8,
          22,
          27,
          56,
          39,
          75,
          118,
          98,
          99,
          117,
          146,
          132,
          264,
          382,
          468,
          538,
          447
         ],
         "yaxis": "y"
        }
       ],
       "layout": {
        "legend": {
         "tracegroupgap": 0
        },
        "margin": {
         "t": 60
        },
        "template": {
         "data": {
          "bar": [
           {
            "error_x": {
             "color": "#2a3f5f"
            },
            "error_y": {
             "color": "#2a3f5f"
            },
            "marker": {
             "line": {
              "color": "#E5ECF6",
              "width": 0.5
             },
             "pattern": {
              "fillmode": "overlay",
              "size": 10,
              "solidity": 0.2
             }
            },
            "type": "bar"
           }
          ],
          "barpolar": [
           {
            "marker": {
             "line": {
              "color": "#E5ECF6",
              "width": 0.5
             },
             "pattern": {
              "fillmode": "overlay",
              "size": 10,
              "solidity": 0.2
             }
            },
            "type": "barpolar"
           }
          ],
          "carpet": [
           {
            "aaxis": {
             "endlinecolor": "#2a3f5f",
             "gridcolor": "white",
             "linecolor": "white",
             "minorgridcolor": "white",
             "startlinecolor": "#2a3f5f"
            },
            "baxis": {
             "endlinecolor": "#2a3f5f",
             "gridcolor": "white",
             "linecolor": "white",
             "minorgridcolor": "white",
             "startlinecolor": "#2a3f5f"
            },
            "type": "carpet"
           }
          ],
          "choropleth": [
           {
            "colorbar": {
             "outlinewidth": 0,
             "ticks": ""
            },
            "type": "choropleth"
           }
          ],
          "contour": [
           {
            "colorbar": {
             "outlinewidth": 0,
             "ticks": ""
            },
            "colorscale": [
             [
              0,
              "#0d0887"
             ],
             [
              0.1111111111111111,
              "#46039f"
             ],
             [
              0.2222222222222222,
              "#7201a8"
             ],
             [
              0.3333333333333333,
              "#9c179e"
             ],
             [
              0.4444444444444444,
              "#bd3786"
             ],
             [
              0.5555555555555556,
              "#d8576b"
             ],
             [
              0.6666666666666666,
              "#ed7953"
             ],
             [
              0.7777777777777778,
              "#fb9f3a"
             ],
             [
              0.8888888888888888,
              "#fdca26"
             ],
             [
              1,
              "#f0f921"
             ]
            ],
            "type": "contour"
           }
          ],
          "contourcarpet": [
           {
            "colorbar": {
             "outlinewidth": 0,
             "ticks": ""
            },
            "type": "contourcarpet"
           }
          ],
          "heatmap": [
           {
            "colorbar": {
             "outlinewidth": 0,
             "ticks": ""
            },
            "colorscale": [
             [
              0,
              "#0d0887"
             ],
             [
              0.1111111111111111,
              "#46039f"
             ],
             [
              0.2222222222222222,
              "#7201a8"
             ],
             [
              0.3333333333333333,
              "#9c179e"
             ],
             [
              0.4444444444444444,
              "#bd3786"
             ],
             [
              0.5555555555555556,
              "#d8576b"
             ],
             [
              0.6666666666666666,
              "#ed7953"
             ],
             [
              0.7777777777777778,
              "#fb9f3a"
             ],
             [
              0.8888888888888888,
              "#fdca26"
             ],
             [
              1,
              "#f0f921"
             ]
            ],
            "type": "heatmap"
           }
          ],
          "heatmapgl": [
           {
            "colorbar": {
             "outlinewidth": 0,
             "ticks": ""
            },
            "colorscale": [
             [
              0,
              "#0d0887"
             ],
             [
              0.1111111111111111,
              "#46039f"
             ],
             [
              0.2222222222222222,
              "#7201a8"
             ],
             [
              0.3333333333333333,
              "#9c179e"
             ],
             [
              0.4444444444444444,
              "#bd3786"
             ],
             [
              0.5555555555555556,
              "#d8576b"
             ],
             [
              0.6666666666666666,
              "#ed7953"
             ],
             [
              0.7777777777777778,
              "#fb9f3a"
             ],
             [
              0.8888888888888888,
              "#fdca26"
             ],
             [
              1,
              "#f0f921"
             ]
            ],
            "type": "heatmapgl"
           }
          ],
          "histogram": [
           {
            "marker": {
             "pattern": {
              "fillmode": "overlay",
              "size": 10,
              "solidity": 0.2
             }
            },
            "type": "histogram"
           }
          ],
          "histogram2d": [
           {
            "colorbar": {
             "outlinewidth": 0,
             "ticks": ""
            },
            "colorscale": [
             [
              0,
              "#0d0887"
             ],
             [
              0.1111111111111111,
              "#46039f"
             ],
             [
              0.2222222222222222,
              "#7201a8"
             ],
             [
              0.3333333333333333,
              "#9c179e"
             ],
             [
              0.4444444444444444,
              "#bd3786"
             ],
             [
              0.5555555555555556,
              "#d8576b"
             ],
             [
              0.6666666666666666,
              "#ed7953"
             ],
             [
              0.7777777777777778,
              "#fb9f3a"
             ],
             [
              0.8888888888888888,
              "#fdca26"
             ],
             [
              1,
              "#f0f921"
             ]
            ],
            "type": "histogram2d"
           }
          ],
          "histogram2dcontour": [
           {
            "colorbar": {
             "outlinewidth": 0,
             "ticks": ""
            },
            "colorscale": [
             [
              0,
              "#0d0887"
             ],
             [
              0.1111111111111111,
              "#46039f"
             ],
             [
              0.2222222222222222,
              "#7201a8"
             ],
             [
              0.3333333333333333,
              "#9c179e"
             ],
             [
              0.4444444444444444,
              "#bd3786"
             ],
             [
              0.5555555555555556,
              "#d8576b"
             ],
             [
              0.6666666666666666,
              "#ed7953"
             ],
             [
              0.7777777777777778,
              "#fb9f3a"
             ],
             [
              0.8888888888888888,
              "#fdca26"
             ],
             [
              1,
              "#f0f921"
             ]
            ],
            "type": "histogram2dcontour"
           }
          ],
          "mesh3d": [
           {
            "colorbar": {
             "outlinewidth": 0,
             "ticks": ""
            },
            "type": "mesh3d"
           }
          ],
          "parcoords": [
           {
            "line": {
             "colorbar": {
              "outlinewidth": 0,
              "ticks": ""
             }
            },
            "type": "parcoords"
           }
          ],
          "pie": [
           {
            "automargin": true,
            "type": "pie"
           }
          ],
          "scatter": [
           {
            "marker": {
             "colorbar": {
              "outlinewidth": 0,
              "ticks": ""
             }
            },
            "type": "scatter"
           }
          ],
          "scatter3d": [
           {
            "line": {
             "colorbar": {
              "outlinewidth": 0,
              "ticks": ""
             }
            },
            "marker": {
             "colorbar": {
              "outlinewidth": 0,
              "ticks": ""
             }
            },
            "type": "scatter3d"
           }
          ],
          "scattercarpet": [
           {
            "marker": {
             "colorbar": {
              "outlinewidth": 0,
              "ticks": ""
             }
            },
            "type": "scattercarpet"
           }
          ],
          "scattergeo": [
           {
            "marker": {
             "colorbar": {
              "outlinewidth": 0,
              "ticks": ""
             }
            },
            "type": "scattergeo"
           }
          ],
          "scattergl": [
           {
            "marker": {
             "colorbar": {
              "outlinewidth": 0,
              "ticks": ""
             }
            },
            "type": "scattergl"
           }
          ],
          "scattermapbox": [
           {
            "marker": {
             "colorbar": {
              "outlinewidth": 0,
              "ticks": ""
             }
            },
            "type": "scattermapbox"
           }
          ],
          "scatterpolar": [
           {
            "marker": {
             "colorbar": {
              "outlinewidth": 0,
              "ticks": ""
             }
            },
            "type": "scatterpolar"
           }
          ],
          "scatterpolargl": [
           {
            "marker": {
             "colorbar": {
              "outlinewidth": 0,
              "ticks": ""
             }
            },
            "type": "scatterpolargl"
           }
          ],
          "scatterternary": [
           {
            "marker": {
             "colorbar": {
              "outlinewidth": 0,
              "ticks": ""
             }
            },
            "type": "scatterternary"
           }
          ],
          "surface": [
           {
            "colorbar": {
             "outlinewidth": 0,
             "ticks": ""
            },
            "colorscale": [
             [
              0,
              "#0d0887"
             ],
             [
              0.1111111111111111,
              "#46039f"
             ],
             [
              0.2222222222222222,
              "#7201a8"
             ],
             [
              0.3333333333333333,
              "#9c179e"
             ],
             [
              0.4444444444444444,
              "#bd3786"
             ],
             [
              0.5555555555555556,
              "#d8576b"
             ],
             [
              0.6666666666666666,
              "#ed7953"
             ],
             [
              0.7777777777777778,
              "#fb9f3a"
             ],
             [
              0.8888888888888888,
              "#fdca26"
             ],
             [
              1,
              "#f0f921"
             ]
            ],
            "type": "surface"
           }
          ],
          "table": [
           {
            "cells": {
             "fill": {
              "color": "#EBF0F8"
             },
             "line": {
              "color": "white"
             }
            },
            "header": {
             "fill": {
              "color": "#C8D4E3"
             },
             "line": {
              "color": "white"
             }
            },
            "type": "table"
           }
          ]
         },
         "layout": {
          "annotationdefaults": {
           "arrowcolor": "#2a3f5f",
           "arrowhead": 0,
           "arrowwidth": 1
          },
          "autotypenumbers": "strict",
          "coloraxis": {
           "colorbar": {
            "outlinewidth": 0,
            "ticks": ""
           }
          },
          "colorscale": {
           "diverging": [
            [
             0,
             "#8e0152"
            ],
            [
             0.1,
             "#c51b7d"
            ],
            [
             0.2,
             "#de77ae"
            ],
            [
             0.3,
             "#f1b6da"
            ],
            [
             0.4,
             "#fde0ef"
            ],
            [
             0.5,
             "#f7f7f7"
            ],
            [
             0.6,
             "#e6f5d0"
            ],
            [
             0.7,
             "#b8e186"
            ],
            [
             0.8,
             "#7fbc41"
            ],
            [
             0.9,
             "#4d9221"
            ],
            [
             1,
             "#276419"
            ]
           ],
           "sequential": [
            [
             0,
             "#0d0887"
            ],
            [
             0.1111111111111111,
             "#46039f"
            ],
            [
             0.2222222222222222,
             "#7201a8"
            ],
            [
             0.3333333333333333,
             "#9c179e"
            ],
            [
             0.4444444444444444,
             "#bd3786"
            ],
            [
             0.5555555555555556,
             "#d8576b"
            ],
            [
             0.6666666666666666,
             "#ed7953"
            ],
            [
             0.7777777777777778,
             "#fb9f3a"
            ],
            [
             0.8888888888888888,
             "#fdca26"
            ],
            [
             1,
             "#f0f921"
            ]
           ],
           "sequentialminus": [
            [
             0,
             "#0d0887"
            ],
            [
             0.1111111111111111,
             "#46039f"
            ],
            [
             0.2222222222222222,
             "#7201a8"
            ],
            [
             0.3333333333333333,
             "#9c179e"
            ],
            [
             0.4444444444444444,
             "#bd3786"
            ],
            [
             0.5555555555555556,
             "#d8576b"
            ],
            [
             0.6666666666666666,
             "#ed7953"
            ],
            [
             0.7777777777777778,
             "#fb9f3a"
            ],
            [
             0.8888888888888888,
             "#fdca26"
            ],
            [
             1,
             "#f0f921"
            ]
           ]
          },
          "colorway": [
           "#636efa",
           "#EF553B",
           "#00cc96",
           "#ab63fa",
           "#FFA15A",
           "#19d3f3",
           "#FF6692",
           "#B6E880",
           "#FF97FF",
           "#FECB52"
          ],
          "font": {
           "color": "#2a3f5f"
          },
          "geo": {
           "bgcolor": "white",
           "lakecolor": "white",
           "landcolor": "#E5ECF6",
           "showlakes": true,
           "showland": true,
           "subunitcolor": "white"
          },
          "hoverlabel": {
           "align": "left"
          },
          "hovermode": "closest",
          "mapbox": {
           "style": "light"
          },
          "paper_bgcolor": "white",
          "plot_bgcolor": "#E5ECF6",
          "polar": {
           "angularaxis": {
            "gridcolor": "white",
            "linecolor": "white",
            "ticks": ""
           },
           "bgcolor": "#E5ECF6",
           "radialaxis": {
            "gridcolor": "white",
            "linecolor": "white",
            "ticks": ""
           }
          },
          "scene": {
           "xaxis": {
            "backgroundcolor": "#E5ECF6",
            "gridcolor": "white",
            "gridwidth": 2,
            "linecolor": "white",
            "showbackground": true,
            "ticks": "",
            "zerolinecolor": "white"
           },
           "yaxis": {
            "backgroundcolor": "#E5ECF6",
            "gridcolor": "white",
            "gridwidth": 2,
            "linecolor": "white",
            "showbackground": true,
            "ticks": "",
            "zerolinecolor": "white"
           },
           "zaxis": {
            "backgroundcolor": "#E5ECF6",
            "gridcolor": "white",
            "gridwidth": 2,
            "linecolor": "white",
            "showbackground": true,
            "ticks": "",
            "zerolinecolor": "white"
           }
          },
          "shapedefaults": {
           "line": {
            "color": "#2a3f5f"
           }
          },
          "ternary": {
           "aaxis": {
            "gridcolor": "white",
            "linecolor": "white",
            "ticks": ""
           },
           "baxis": {
            "gridcolor": "white",
            "linecolor": "white",
            "ticks": ""
           },
           "bgcolor": "#E5ECF6",
           "caxis": {
            "gridcolor": "white",
            "linecolor": "white",
            "ticks": ""
           }
          },
          "title": {
           "x": 0.05
          },
          "xaxis": {
           "automargin": true,
           "gridcolor": "white",
           "linecolor": "white",
           "ticks": "",
           "title": {
            "standoff": 15
           },
           "zerolinecolor": "white",
           "zerolinewidth": 2
          },
          "yaxis": {
           "automargin": true,
           "gridcolor": "white",
           "linecolor": "white",
           "ticks": "",
           "title": {
            "standoff": 15
           },
           "zerolinecolor": "white",
           "zerolinewidth": 2
          }
         }
        },
        "xaxis": {
         "anchor": "y",
         "domain": [
          0,
          1
         ],
         "title": {
          "text": "Month Year"
         }
        },
        "yaxis": {
         "anchor": "x",
         "domain": [
          0,
          1
         ],
         "title": {
          "text": "Job Count"
         }
        }
       }
      },
      "text/html": [
       "<div>                            <div id=\"78f1f4f7-1e91-4029-879f-1f405983d2c7\" class=\"plotly-graph-div\" style=\"height:525px; width:100%;\"></div>            <script type=\"text/javascript\">                require([\"plotly\"], function(Plotly) {                    window.PLOTLYENV=window.PLOTLYENV || {};                                    if (document.getElementById(\"78f1f4f7-1e91-4029-879f-1f405983d2c7\")) {                    Plotly.newPlot(                        \"78f1f4f7-1e91-4029-879f-1f405983d2c7\",                        [{\"hovertemplate\":\"Month Year=%{x}<br>Job Count=%{y}<extra></extra>\",\"legendgroup\":\"\",\"line\":{\"color\":\"#636efa\",\"dash\":\"solid\"},\"marker\":{\"symbol\":\"circle\"},\"mode\":\"lines\",\"name\":\"\",\"orientation\":\"v\",\"showlegend\":false,\"x\":[\"2020-06-01T00:00:00\",\"2021-07-01T00:00:00\",\"2021-08-01T00:00:00\",\"2021-09-01T00:00:00\",\"2021-10-01T00:00:00\",\"2021-11-01T00:00:00\",\"2021-12-01T00:00:00\",\"2022-01-01T00:00:00\",\"2022-02-01T00:00:00\",\"2022-03-01T00:00:00\",\"2022-04-01T00:00:00\",\"2022-05-01T00:00:00\",\"2022-06-01T00:00:00\",\"2022-07-01T00:00:00\",\"2022-08-01T00:00:00\",\"2022-09-01T00:00:00\",\"2022-10-01T00:00:00\",\"2022-11-01T00:00:00\",\"2022-12-01T00:00:00\",\"2023-01-01T00:00:00\",\"2023-02-01T00:00:00\",\"2023-03-01T00:00:00\",\"2023-04-01T00:00:00\",\"2023-05-01T00:00:00\"],\"xaxis\":\"x\",\"y\":[1,3,7,8,4,4,17,8,22,27,56,39,75,118,98,99,117,146,132,264,382,468,538,447],\"yaxis\":\"y\",\"type\":\"scatter\"}],                        {\"template\":{\"data\":{\"bar\":[{\"error_x\":{\"color\":\"#2a3f5f\"},\"error_y\":{\"color\":\"#2a3f5f\"},\"marker\":{\"line\":{\"color\":\"#E5ECF6\",\"width\":0.5},\"pattern\":{\"fillmode\":\"overlay\",\"size\":10,\"solidity\":0.2}},\"type\":\"bar\"}],\"barpolar\":[{\"marker\":{\"line\":{\"color\":\"#E5ECF6\",\"width\":0.5},\"pattern\":{\"fillmode\":\"overlay\",\"size\":10,\"solidity\":0.2}},\"type\":\"barpolar\"}],\"carpet\":[{\"aaxis\":{\"endlinecolor\":\"#2a3f5f\",\"gridcolor\":\"white\",\"linecolor\":\"white\",\"minorgridcolor\":\"white\",\"startlinecolor\":\"#2a3f5f\"},\"baxis\":{\"endlinecolor\":\"#2a3f5f\",\"gridcolor\":\"white\",\"linecolor\":\"white\",\"minorgridcolor\":\"white\",\"startlinecolor\":\"#2a3f5f\"},\"type\":\"carpet\"}],\"choropleth\":[{\"colorbar\":{\"outlinewidth\":0,\"ticks\":\"\"},\"type\":\"choropleth\"}],\"contour\":[{\"colorbar\":{\"outlinewidth\":0,\"ticks\":\"\"},\"colorscale\":[[0.0,\"#0d0887\"],[0.1111111111111111,\"#46039f\"],[0.2222222222222222,\"#7201a8\"],[0.3333333333333333,\"#9c179e\"],[0.4444444444444444,\"#bd3786\"],[0.5555555555555556,\"#d8576b\"],[0.6666666666666666,\"#ed7953\"],[0.7777777777777778,\"#fb9f3a\"],[0.8888888888888888,\"#fdca26\"],[1.0,\"#f0f921\"]],\"type\":\"contour\"}],\"contourcarpet\":[{\"colorbar\":{\"outlinewidth\":0,\"ticks\":\"\"},\"type\":\"contourcarpet\"}],\"heatmap\":[{\"colorbar\":{\"outlinewidth\":0,\"ticks\":\"\"},\"colorscale\":[[0.0,\"#0d0887\"],[0.1111111111111111,\"#46039f\"],[0.2222222222222222,\"#7201a8\"],[0.3333333333333333,\"#9c179e\"],[0.4444444444444444,\"#bd3786\"],[0.5555555555555556,\"#d8576b\"],[0.6666666666666666,\"#ed7953\"],[0.7777777777777778,\"#fb9f3a\"],[0.8888888888888888,\"#fdca26\"],[1.0,\"#f0f921\"]],\"type\":\"heatmap\"}],\"heatmapgl\":[{\"colorbar\":{\"outlinewidth\":0,\"ticks\":\"\"},\"colorscale\":[[0.0,\"#0d0887\"],[0.1111111111111111,\"#46039f\"],[0.2222222222222222,\"#7201a8\"],[0.3333333333333333,\"#9c179e\"],[0.4444444444444444,\"#bd3786\"],[0.5555555555555556,\"#d8576b\"],[0.6666666666666666,\"#ed7953\"],[0.7777777777777778,\"#fb9f3a\"],[0.8888888888888888,\"#fdca26\"],[1.0,\"#f0f921\"]],\"type\":\"heatmapgl\"}],\"histogram\":[{\"marker\":{\"pattern\":{\"fillmode\":\"overlay\",\"size\":10,\"solidity\":0.2}},\"type\":\"histogram\"}],\"histogram2d\":[{\"colorbar\":{\"outlinewidth\":0,\"ticks\":\"\"},\"colorscale\":[[0.0,\"#0d0887\"],[0.1111111111111111,\"#46039f\"],[0.2222222222222222,\"#7201a8\"],[0.3333333333333333,\"#9c179e\"],[0.4444444444444444,\"#bd3786\"],[0.5555555555555556,\"#d8576b\"],[0.6666666666666666,\"#ed7953\"],[0.7777777777777778,\"#fb9f3a\"],[0.8888888888888888,\"#fdca26\"],[1.0,\"#f0f921\"]],\"type\":\"histogram2d\"}],\"histogram2dcontour\":[{\"colorbar\":{\"outlinewidth\":0,\"ticks\":\"\"},\"colorscale\":[[0.0,\"#0d0887\"],[0.1111111111111111,\"#46039f\"],[0.2222222222222222,\"#7201a8\"],[0.3333333333333333,\"#9c179e\"],[0.4444444444444444,\"#bd3786\"],[0.5555555555555556,\"#d8576b\"],[0.6666666666666666,\"#ed7953\"],[0.7777777777777778,\"#fb9f3a\"],[0.8888888888888888,\"#fdca26\"],[1.0,\"#f0f921\"]],\"type\":\"histogram2dcontour\"}],\"mesh3d\":[{\"colorbar\":{\"outlinewidth\":0,\"ticks\":\"\"},\"type\":\"mesh3d\"}],\"parcoords\":[{\"line\":{\"colorbar\":{\"outlinewidth\":0,\"ticks\":\"\"}},\"type\":\"parcoords\"}],\"pie\":[{\"automargin\":true,\"type\":\"pie\"}],\"scatter\":[{\"marker\":{\"colorbar\":{\"outlinewidth\":0,\"ticks\":\"\"}},\"type\":\"scatter\"}],\"scatter3d\":[{\"line\":{\"colorbar\":{\"outlinewidth\":0,\"ticks\":\"\"}},\"marker\":{\"colorbar\":{\"outlinewidth\":0,\"ticks\":\"\"}},\"type\":\"scatter3d\"}],\"scattercarpet\":[{\"marker\":{\"colorbar\":{\"outlinewidth\":0,\"ticks\":\"\"}},\"type\":\"scattercarpet\"}],\"scattergeo\":[{\"marker\":{\"colorbar\":{\"outlinewidth\":0,\"ticks\":\"\"}},\"type\":\"scattergeo\"}],\"scattergl\":[{\"marker\":{\"colorbar\":{\"outlinewidth\":0,\"ticks\":\"\"}},\"type\":\"scattergl\"}],\"scattermapbox\":[{\"marker\":{\"colorbar\":{\"outlinewidth\":0,\"ticks\":\"\"}},\"type\":\"scattermapbox\"}],\"scatterpolar\":[{\"marker\":{\"colorbar\":{\"outlinewidth\":0,\"ticks\":\"\"}},\"type\":\"scatterpolar\"}],\"scatterpolargl\":[{\"marker\":{\"colorbar\":{\"outlinewidth\":0,\"ticks\":\"\"}},\"type\":\"scatterpolargl\"}],\"scatterternary\":[{\"marker\":{\"colorbar\":{\"outlinewidth\":0,\"ticks\":\"\"}},\"type\":\"scatterternary\"}],\"surface\":[{\"colorbar\":{\"outlinewidth\":0,\"ticks\":\"\"},\"colorscale\":[[0.0,\"#0d0887\"],[0.1111111111111111,\"#46039f\"],[0.2222222222222222,\"#7201a8\"],[0.3333333333333333,\"#9c179e\"],[0.4444444444444444,\"#bd3786\"],[0.5555555555555556,\"#d8576b\"],[0.6666666666666666,\"#ed7953\"],[0.7777777777777778,\"#fb9f3a\"],[0.8888888888888888,\"#fdca26\"],[1.0,\"#f0f921\"]],\"type\":\"surface\"}],\"table\":[{\"cells\":{\"fill\":{\"color\":\"#EBF0F8\"},\"line\":{\"color\":\"white\"}},\"header\":{\"fill\":{\"color\":\"#C8D4E3\"},\"line\":{\"color\":\"white\"}},\"type\":\"table\"}]},\"layout\":{\"annotationdefaults\":{\"arrowcolor\":\"#2a3f5f\",\"arrowhead\":0,\"arrowwidth\":1},\"autotypenumbers\":\"strict\",\"coloraxis\":{\"colorbar\":{\"outlinewidth\":0,\"ticks\":\"\"}},\"colorscale\":{\"diverging\":[[0,\"#8e0152\"],[0.1,\"#c51b7d\"],[0.2,\"#de77ae\"],[0.3,\"#f1b6da\"],[0.4,\"#fde0ef\"],[0.5,\"#f7f7f7\"],[0.6,\"#e6f5d0\"],[0.7,\"#b8e186\"],[0.8,\"#7fbc41\"],[0.9,\"#4d9221\"],[1,\"#276419\"]],\"sequential\":[[0.0,\"#0d0887\"],[0.1111111111111111,\"#46039f\"],[0.2222222222222222,\"#7201a8\"],[0.3333333333333333,\"#9c179e\"],[0.4444444444444444,\"#bd3786\"],[0.5555555555555556,\"#d8576b\"],[0.6666666666666666,\"#ed7953\"],[0.7777777777777778,\"#fb9f3a\"],[0.8888888888888888,\"#fdca26\"],[1.0,\"#f0f921\"]],\"sequentialminus\":[[0.0,\"#0d0887\"],[0.1111111111111111,\"#46039f\"],[0.2222222222222222,\"#7201a8\"],[0.3333333333333333,\"#9c179e\"],[0.4444444444444444,\"#bd3786\"],[0.5555555555555556,\"#d8576b\"],[0.6666666666666666,\"#ed7953\"],[0.7777777777777778,\"#fb9f3a\"],[0.8888888888888888,\"#fdca26\"],[1.0,\"#f0f921\"]]},\"colorway\":[\"#636efa\",\"#EF553B\",\"#00cc96\",\"#ab63fa\",\"#FFA15A\",\"#19d3f3\",\"#FF6692\",\"#B6E880\",\"#FF97FF\",\"#FECB52\"],\"font\":{\"color\":\"#2a3f5f\"},\"geo\":{\"bgcolor\":\"white\",\"lakecolor\":\"white\",\"landcolor\":\"#E5ECF6\",\"showlakes\":true,\"showland\":true,\"subunitcolor\":\"white\"},\"hoverlabel\":{\"align\":\"left\"},\"hovermode\":\"closest\",\"mapbox\":{\"style\":\"light\"},\"paper_bgcolor\":\"white\",\"plot_bgcolor\":\"#E5ECF6\",\"polar\":{\"angularaxis\":{\"gridcolor\":\"white\",\"linecolor\":\"white\",\"ticks\":\"\"},\"bgcolor\":\"#E5ECF6\",\"radialaxis\":{\"gridcolor\":\"white\",\"linecolor\":\"white\",\"ticks\":\"\"}},\"scene\":{\"xaxis\":{\"backgroundcolor\":\"#E5ECF6\",\"gridcolor\":\"white\",\"gridwidth\":2,\"linecolor\":\"white\",\"showbackground\":true,\"ticks\":\"\",\"zerolinecolor\":\"white\"},\"yaxis\":{\"backgroundcolor\":\"#E5ECF6\",\"gridcolor\":\"white\",\"gridwidth\":2,\"linecolor\":\"white\",\"showbackground\":true,\"ticks\":\"\",\"zerolinecolor\":\"white\"},\"zaxis\":{\"backgroundcolor\":\"#E5ECF6\",\"gridcolor\":\"white\",\"gridwidth\":2,\"linecolor\":\"white\",\"showbackground\":true,\"ticks\":\"\",\"zerolinecolor\":\"white\"}},\"shapedefaults\":{\"line\":{\"color\":\"#2a3f5f\"}},\"ternary\":{\"aaxis\":{\"gridcolor\":\"white\",\"linecolor\":\"white\",\"ticks\":\"\"},\"baxis\":{\"gridcolor\":\"white\",\"linecolor\":\"white\",\"ticks\":\"\"},\"bgcolor\":\"#E5ECF6\",\"caxis\":{\"gridcolor\":\"white\",\"linecolor\":\"white\",\"ticks\":\"\"}},\"title\":{\"x\":0.05},\"xaxis\":{\"automargin\":true,\"gridcolor\":\"white\",\"linecolor\":\"white\",\"ticks\":\"\",\"title\":{\"standoff\":15},\"zerolinecolor\":\"white\",\"zerolinewidth\":2},\"yaxis\":{\"automargin\":true,\"gridcolor\":\"white\",\"linecolor\":\"white\",\"ticks\":\"\",\"title\":{\"standoff\":15},\"zerolinecolor\":\"white\",\"zerolinewidth\":2}}},\"xaxis\":{\"anchor\":\"y\",\"domain\":[0.0,1.0],\"title\":{\"text\":\"Month Year\"}},\"yaxis\":{\"anchor\":\"x\",\"domain\":[0.0,1.0],\"title\":{\"text\":\"Job Count\"}},\"legend\":{\"tracegroupgap\":0},\"margin\":{\"t\":60}},                        {\"responsive\": true}                    ).then(function(){\n",
       "                            \n",
       "var gd = document.getElementById('78f1f4f7-1e91-4029-879f-1f405983d2c7');\n",
       "var x = new MutationObserver(function (mutations, observer) {{\n",
       "        var display = window.getComputedStyle(gd).display;\n",
       "        if (!display || display === 'none') {{\n",
       "            console.log([gd, 'removed!']);\n",
       "            Plotly.purge(gd);\n",
       "            observer.disconnect();\n",
       "        }}\n",
       "}});\n",
       "\n",
       "// Listen for the removal of the full notebook cells\n",
       "var notebookContainer = gd.closest('#notebook-container');\n",
       "if (notebookContainer) {{\n",
       "    x.observe(notebookContainer, {childList: true});\n",
       "}}\n",
       "\n",
       "// Listen for the clearing of the current output cell\n",
       "var outputEl = gd.closest('.output');\n",
       "if (outputEl) {{\n",
       "    x.observe(outputEl, {childList: true});\n",
       "}}\n",
       "\n",
       "                        })                };                });            </script>        </div>"
      ]
     },
     "metadata": {},
     "output_type": "display_data"
    }
   ],
   "source": [
    "line_chart_date = df.copy()\n",
    "line_chart_date['posting_date'] = pd.to_datetime(line_chart_date['posting_date'])\n",
    "line_chart_date['month_year'] = line_chart_date['posting_date'].dt.strftime('%m/%Y')\n",
    "jobs_per_month = line_chart_date['month_year'].value_counts().reset_index()\n",
    "jobs_per_month = jobs_per_month.rename(columns={'index': 'Month Year', 'month_year': 'Job Count'})\n",
    "\n",
    "# Convert 'Month Year' to a pandas datetime column and sort by it\n",
    "jobs_per_month['Month Year'] = pd.to_datetime(jobs_per_month['Month Year'], format='%m/%Y')\n",
    "jobs_per_month = jobs_per_month.sort_values('Month Year')\n",
    "\n",
    "fig = px.line(jobs_per_month, x='Month Year', y='Job Count')\n",
    "fig.show()"
   ]
  },
  {
   "cell_type": "code",
   "execution_count": null,
   "id": "fe78e2a0",
   "metadata": {},
   "outputs": [],
   "source": []
  },
  {
   "cell_type": "code",
   "execution_count": 30,
   "id": "1450f1b0",
   "metadata": {},
   "outputs": [
    {
     "name": "stdout",
     "output_type": "stream",
     "text": [
      "float64\n",
      "0\n"
     ]
    }
   ],
   "source": [
    "print(df['number_of_positions'].dtype)\n",
    "print(df['number_of_positions'].isnull().sum())\n"
   ]
  },
  {
   "cell_type": "code",
   "execution_count": 31,
   "id": "0fd75484",
   "metadata": {},
   "outputs": [
    {
     "data": {
      "text/plain": [
       "<Axes: ylabel='career_level'>"
      ]
     },
     "execution_count": 31,
     "metadata": {},
     "output_type": "execute_result"
    },
    {
     "data": {
      "image/png": "[encoded data removed]",
      "text/plain": [
       "<Figure size 2160x720 with 2 Axes>"
      ]
     },
     "metadata": {
      "needs_background": "light"
     },
     "output_type": "display_data"
    }
   ],
   "source": [
    "import matplotlib.pyplot as plt\n",
    "import numpy as np\n",
    "import seaborn as sns\n",
    "df['number_of_positions'] = df['number_of_positions'].astype(np.int64)\n",
    "\n",
    "x=df.drop_duplicates(['career_level','number_of_positions'])\n",
    "\n",
    "plt.figure(figsize=(30,10))\n",
    "table=x.pivot_table(index='career_level',values='number_of_positions',aggfunc=np.sum)\n",
    "table = table.astype(np.int64)\n",
    "\n",
    "sns.heatmap(table,annot=True,fmt='d',cmap=\"Blues\")"
   ]
  },
  {
   "cell_type": "code",
   "execution_count": null,
   "id": "2dd685e0",
   "metadata": {},
   "outputs": [],
   "source": []
  },
  {
   "cell_type": "code",
   "execution_count": null,
   "id": "9caf54ca",
   "metadata": {},
   "outputs": [],
   "source": []
  },
  {
   "cell_type": "code",
   "execution_count": null,
   "id": "e982a1a5",
   "metadata": {},
   "outputs": [],
   "source": []
  },
  {
   "cell_type": "code",
   "execution_count": null,
   "id": "b4c0469d",
   "metadata": {},
   "outputs": [],
   "source": []
  },
  {
   "cell_type": "code",
   "execution_count": null,
   "id": "a8e38f8e",
   "metadata": {},
   "outputs": [],
   "source": []
  },
  {
   "cell_type": "code",
   "execution_count": null,
   "id": "13a20cde",
   "metadata": {},
   "outputs": [],
   "source": []
  }
 ],
 "metadata": {
  "kernelspec": {
   "display_name": "Python 3 (ipykernel)",
   "language": "python",
   "name": "python3"
  },
  "language_info": {
   "codemirror_mode": {
    "name": "ipython",
    "version": 3
   },
   "file_extension": ".py",
   "mimetype": "text/x-python",
   "name": "python",
   "nbconvert_exporter": "python",
   "pygments_lexer": "ipython3",
   "version": "3.9.12"
  }
 },
 "nbformat": 4,
 "nbformat_minor": 5
}
